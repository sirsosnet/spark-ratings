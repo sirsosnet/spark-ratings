{
 "cells": [
  {
   "cell_type": "markdown",
   "metadata": {},
   "source": [
    "[Pyspark Tutorial](https://www.guru99.com/pyspark-tutorial.html)\n",
    "\n",
    "[Python Pandas Snippets](https://gist.github.com/bsweger/e5817488d161f37dcbd2)\n",
    "\n",
    "[Python Data Manipulation techniques](https://www.analyticsvidhya.com/blog/2016/01/12-pandas-techniques-python-data-manipulation/)\n",
    "\n",
    "[Databricks Python for big data: Koalas](https://databricks.com/blog/2020/03/31/10-minutes-from-pandas-to-koalas-on-apache-spark.html)\n",
    "\n",
    "[Python RegEx: re.match(), re.search(), re.findall() with Example](https://www.guru99.com/python-regular-expressions-complete-tutorial.html)\n",
    "\n",
    "[Spark – Working with collect_list() and collect_set() functions](https://sparkbyexamples.com/spark/spark-collect-list-and-collect-set-functions/)\n",
    "\n",
    "[Pyspark Basics](https://towardsdatascience.com/pyspark-and-sparksql-basics-6cb4bf967e53)\n",
    "\n",
    "[Introduction to apply, applymap and map](https://towardsdatascience.com/introduction-to-pandas-apply-applymap-and-map-5d3e044e93ff)"
   ]
  },
  {
   "cell_type": "markdown",
   "metadata": {},
   "source": [
    "#### This is a notbook to practice pyspark and to apply pyspark code to solve problems.\n",
    "\n",
    "- The first part of this notebook contains the equivelent python code to achieve the same solution as you would in pyspark.\n",
    "- the python code solutions are provided using pandas, which is a python data manipulation library.\n",
    "\n",
    "- Challenge 1 and 2 does not include the python equivelent."
   ]
  },
  {
   "cell_type": "code",
   "execution_count": 1,
   "metadata": {},
   "outputs": [],
   "source": [
    "#import python libs:\n",
    "import pandas as pd\n",
    "import numpy as np\n",
    "import datetime\n",
    "from requests import get\n",
    "import os\n",
    "from os import path, getcwd, makedirs, listdir\n",
    "from io import BytesIO\n",
    "from zipfile import ZipFile\n",
    "import glob"
   ]
  },
  {
   "cell_type": "code",
   "execution_count": null,
   "metadata": {},
   "outputs": [],
   "source": [
    "#download findspark if needed to run the cell below:\n",
    "!pip install findspark #turn off vpn if error occurs"
   ]
  },
  {
   "cell_type": "code",
   "execution_count": 2,
   "metadata": {},
   "outputs": [],
   "source": [
    "#find spark:\n",
    "import findspark #lib to find where spark is\n",
    "findspark.init('C:/spark')#path to spark\n",
    "\n",
    "#---^ sometimes this is necessary in order to import pyspark"
   ]
  },
  {
   "cell_type": "code",
   "execution_count": null,
   "metadata": {},
   "outputs": [],
   "source": [
    "#import pyspark libs:\n",
    "from pyspark.sql import SparkSession"
   ]
  },
  {
   "cell_type": "code",
   "execution_count": null,
   "metadata": {},
   "outputs": [],
   "source": []
  },
  {
   "cell_type": "markdown",
   "metadata": {},
   "source": [
    "## Download data:"
   ]
  },
  {
   "cell_type": "markdown",
   "metadata": {},
   "source": [
    "#### Pandas:"
   ]
  },
  {
   "cell_type": "code",
   "execution_count": null,
   "metadata": {},
   "outputs": [],
   "source": [
    "os.getcwd()"
   ]
  },
  {
   "cell_type": "code",
   "execution_count": null,
   "metadata": {},
   "outputs": [],
   "source": [
    "#download data from url: TURN OFF VPN\n",
    "\n",
    "#create folder:\n",
    "folder_data = 'data'\n",
    "\n",
    "if not os.path.exists(folder_data): #downloaded files will be stored in folder 'data'\n",
    "    os.makedirs(folder_data)\n",
    "else:\n",
    "    print('Folder already exists')\n",
    "        \n",
    "#loop through files (from url) starting at month 1 to 3: This will pull three files\n",
    "for month in range(1, 4):\n",
    "    month_string = str(month)\n",
    "    month_leading_zero = month_string.zfill(2)\n",
    "    \n",
    "    #scrape URL:                                                      +01, 02, 03...eg:201801-fordgobike-tripdata.csv.zip\n",
    "    bike_data_url = 'https://s3.amazonaws.com/fordgobike-data/2018' + month_leading_zero + '-fordgobike-tripdata.csv.zip'\n",
    "    response = get(bike_data_url)\n",
    "\n",
    "    # code below opens zip file; BytesIO returns a view of the contents;\n",
    "    unzipped_file = ZipFile(BytesIO(response.content))\n",
    "\n",
    "    # place extracted zip files into data folder\n",
    "    unzipped_file.extractall(folder_data)"
   ]
  },
  {
   "cell_type": "code",
   "execution_count": 3,
   "metadata": {},
   "outputs": [],
   "source": [
    "#import data:\n",
    "\n",
    "df = pd.concat(map(pd.read_csv, glob.glob('data\\\\*.csv'))) \n",
    "#glob == used to retrieve files/pathnames matching a specified pattern"
   ]
  },
  {
   "cell_type": "code",
   "execution_count": 4,
   "metadata": {},
   "outputs": [
    {
     "data": {
      "text/html": [
       "<div>\n",
       "<style scoped>\n",
       "    .dataframe tbody tr th:only-of-type {\n",
       "        vertical-align: middle;\n",
       "    }\n",
       "\n",
       "    .dataframe tbody tr th {\n",
       "        vertical-align: top;\n",
       "    }\n",
       "\n",
       "    .dataframe thead th {\n",
       "        text-align: right;\n",
       "    }\n",
       "</style>\n",
       "<table border=\"1\" class=\"dataframe\">\n",
       "  <thead>\n",
       "    <tr style=\"text-align: right;\">\n",
       "      <th></th>\n",
       "      <th>duration_sec</th>\n",
       "      <th>start_time</th>\n",
       "      <th>end_time</th>\n",
       "      <th>start_station_id</th>\n",
       "      <th>start_station_name</th>\n",
       "      <th>start_station_latitude</th>\n",
       "      <th>start_station_longitude</th>\n",
       "      <th>end_station_id</th>\n",
       "      <th>end_station_name</th>\n",
       "      <th>end_station_latitude</th>\n",
       "      <th>end_station_longitude</th>\n",
       "      <th>bike_id</th>\n",
       "      <th>user_type</th>\n",
       "      <th>member_birth_year</th>\n",
       "      <th>member_gender</th>\n",
       "      <th>bike_share_for_all_trip</th>\n",
       "    </tr>\n",
       "  </thead>\n",
       "  <tbody>\n",
       "    <tr>\n",
       "      <th>0</th>\n",
       "      <td>75284</td>\n",
       "      <td>2018-01-31 22:52:35.2390</td>\n",
       "      <td>2018-02-01 19:47:19.8240</td>\n",
       "      <td>120</td>\n",
       "      <td>Mission Dolores Park</td>\n",
       "      <td>37.761420</td>\n",
       "      <td>-122.426435</td>\n",
       "      <td>285</td>\n",
       "      <td>Webster St at O'Farrell St</td>\n",
       "      <td>37.783521</td>\n",
       "      <td>-122.431158</td>\n",
       "      <td>2765</td>\n",
       "      <td>Subscriber</td>\n",
       "      <td>1986.0</td>\n",
       "      <td>Male</td>\n",
       "      <td>No</td>\n",
       "    </tr>\n",
       "    <tr>\n",
       "      <th>1</th>\n",
       "      <td>85422</td>\n",
       "      <td>2018-01-31 16:13:34.3510</td>\n",
       "      <td>2018-02-01 15:57:17.3100</td>\n",
       "      <td>15</td>\n",
       "      <td>San Francisco Ferry Building (Harry Bridges Pl...</td>\n",
       "      <td>37.795392</td>\n",
       "      <td>-122.394203</td>\n",
       "      <td>15</td>\n",
       "      <td>San Francisco Ferry Building (Harry Bridges Pl...</td>\n",
       "      <td>37.795392</td>\n",
       "      <td>-122.394203</td>\n",
       "      <td>2815</td>\n",
       "      <td>Customer</td>\n",
       "      <td>NaN</td>\n",
       "      <td>NaN</td>\n",
       "      <td>No</td>\n",
       "    </tr>\n",
       "    <tr>\n",
       "      <th>2</th>\n",
       "      <td>71576</td>\n",
       "      <td>2018-01-31 14:23:55.8890</td>\n",
       "      <td>2018-02-01 10:16:52.1160</td>\n",
       "      <td>304</td>\n",
       "      <td>Jackson St at 5th St</td>\n",
       "      <td>37.348759</td>\n",
       "      <td>-121.894798</td>\n",
       "      <td>296</td>\n",
       "      <td>5th St at Virginia St</td>\n",
       "      <td>37.325998</td>\n",
       "      <td>-121.877120</td>\n",
       "      <td>3039</td>\n",
       "      <td>Customer</td>\n",
       "      <td>1996.0</td>\n",
       "      <td>Male</td>\n",
       "      <td>No</td>\n",
       "    </tr>\n",
       "    <tr>\n",
       "      <th>3</th>\n",
       "      <td>61076</td>\n",
       "      <td>2018-01-31 14:53:23.5620</td>\n",
       "      <td>2018-02-01 07:51:20.5000</td>\n",
       "      <td>75</td>\n",
       "      <td>Market St at Franklin St</td>\n",
       "      <td>37.773793</td>\n",
       "      <td>-122.421239</td>\n",
       "      <td>47</td>\n",
       "      <td>4th St at Harrison St</td>\n",
       "      <td>37.780955</td>\n",
       "      <td>-122.399749</td>\n",
       "      <td>321</td>\n",
       "      <td>Customer</td>\n",
       "      <td>NaN</td>\n",
       "      <td>NaN</td>\n",
       "      <td>No</td>\n",
       "    </tr>\n",
       "    <tr>\n",
       "      <th>4</th>\n",
       "      <td>39966</td>\n",
       "      <td>2018-01-31 19:52:24.6670</td>\n",
       "      <td>2018-02-01 06:58:31.0530</td>\n",
       "      <td>74</td>\n",
       "      <td>Laguna St at Hayes St</td>\n",
       "      <td>37.776435</td>\n",
       "      <td>-122.426244</td>\n",
       "      <td>19</td>\n",
       "      <td>Post St at Kearny St</td>\n",
       "      <td>37.788975</td>\n",
       "      <td>-122.403452</td>\n",
       "      <td>617</td>\n",
       "      <td>Subscriber</td>\n",
       "      <td>1991.0</td>\n",
       "      <td>Male</td>\n",
       "      <td>No</td>\n",
       "    </tr>\n",
       "  </tbody>\n",
       "</table>\n",
       "</div>"
      ],
      "text/plain": [
       "   duration_sec                start_time                  end_time  \\\n",
       "0         75284  2018-01-31 22:52:35.2390  2018-02-01 19:47:19.8240   \n",
       "1         85422  2018-01-31 16:13:34.3510  2018-02-01 15:57:17.3100   \n",
       "2         71576  2018-01-31 14:23:55.8890  2018-02-01 10:16:52.1160   \n",
       "3         61076  2018-01-31 14:53:23.5620  2018-02-01 07:51:20.5000   \n",
       "4         39966  2018-01-31 19:52:24.6670  2018-02-01 06:58:31.0530   \n",
       "\n",
       "   start_station_id                                 start_station_name  \\\n",
       "0               120                               Mission Dolores Park   \n",
       "1                15  San Francisco Ferry Building (Harry Bridges Pl...   \n",
       "2               304                               Jackson St at 5th St   \n",
       "3                75                           Market St at Franklin St   \n",
       "4                74                              Laguna St at Hayes St   \n",
       "\n",
       "   start_station_latitude  start_station_longitude  end_station_id  \\\n",
       "0               37.761420              -122.426435             285   \n",
       "1               37.795392              -122.394203              15   \n",
       "2               37.348759              -121.894798             296   \n",
       "3               37.773793              -122.421239              47   \n",
       "4               37.776435              -122.426244              19   \n",
       "\n",
       "                                    end_station_name  end_station_latitude  \\\n",
       "0                         Webster St at O'Farrell St             37.783521   \n",
       "1  San Francisco Ferry Building (Harry Bridges Pl...             37.795392   \n",
       "2                              5th St at Virginia St             37.325998   \n",
       "3                              4th St at Harrison St             37.780955   \n",
       "4                               Post St at Kearny St             37.788975   \n",
       "\n",
       "   end_station_longitude  bike_id   user_type  member_birth_year  \\\n",
       "0            -122.431158     2765  Subscriber             1986.0   \n",
       "1            -122.394203     2815    Customer                NaN   \n",
       "2            -121.877120     3039    Customer             1996.0   \n",
       "3            -122.399749      321    Customer                NaN   \n",
       "4            -122.403452      617  Subscriber             1991.0   \n",
       "\n",
       "  member_gender bike_share_for_all_trip  \n",
       "0          Male                      No  \n",
       "1           NaN                      No  \n",
       "2          Male                      No  \n",
       "3           NaN                      No  \n",
       "4          Male                      No  "
      ]
     },
     "execution_count": 4,
     "metadata": {},
     "output_type": "execute_result"
    }
   ],
   "source": [
    "df.head()"
   ]
  },
  {
   "cell_type": "markdown",
   "metadata": {},
   "source": [
    "#### Pyspark:\n"
   ]
  },
  {
   "cell_type": "code",
   "execution_count": null,
   "metadata": {},
   "outputs": [],
   "source": [
    "#create spark session:"
   ]
  },
  {
   "cell_type": "code",
   "execution_count": null,
   "metadata": {},
   "outputs": [],
   "source": [
    "#import downloaded data into a pyspark dataframe:"
   ]
  },
  {
   "cell_type": "markdown",
   "metadata": {},
   "source": [
    "## Check structure of dataset:"
   ]
  },
  {
   "cell_type": "markdown",
   "metadata": {},
   "source": [
    "### How many rows and columns are there?"
   ]
  },
  {
   "cell_type": "markdown",
   "metadata": {},
   "source": [
    "#### Pandas:"
   ]
  },
  {
   "cell_type": "code",
   "execution_count": 5,
   "metadata": {},
   "outputs": [
    {
     "data": {
      "text/plain": [
       "(312902, 16)"
      ]
     },
     "execution_count": 5,
     "metadata": {},
     "output_type": "execute_result"
    }
   ],
   "source": [
    "#number of rows and columns:\n",
    "df.shape"
   ]
  },
  {
   "cell_type": "markdown",
   "metadata": {},
   "source": [
    "#### Pyspark:"
   ]
  },
  {
   "cell_type": "code",
   "execution_count": null,
   "metadata": {},
   "outputs": [],
   "source": []
  },
  {
   "cell_type": "markdown",
   "metadata": {},
   "source": [
    "### What are the datatypes?"
   ]
  },
  {
   "cell_type": "markdown",
   "metadata": {},
   "source": [
    "#### Pandas:"
   ]
  },
  {
   "cell_type": "code",
   "execution_count": 6,
   "metadata": {},
   "outputs": [
    {
     "name": "stdout",
     "output_type": "stream",
     "text": [
      "<class 'pandas.core.frame.DataFrame'>\n",
      "Int64Index: 312902 entries, 0 to 111381\n",
      "Data columns (total 16 columns):\n",
      " #   Column                   Non-Null Count   Dtype  \n",
      "---  ------                   --------------   -----  \n",
      " 0   duration_sec             312902 non-null  int64  \n",
      " 1   start_time               312902 non-null  object \n",
      " 2   end_time                 312902 non-null  object \n",
      " 3   start_station_id         312902 non-null  int64  \n",
      " 4   start_station_name       312902 non-null  object \n",
      " 5   start_station_latitude   312902 non-null  float64\n",
      " 6   start_station_longitude  312902 non-null  float64\n",
      " 7   end_station_id           312902 non-null  int64  \n",
      " 8   end_station_name         312902 non-null  object \n",
      " 9   end_station_latitude     312902 non-null  float64\n",
      " 10  end_station_longitude    312902 non-null  float64\n",
      " 11  bike_id                  312902 non-null  int64  \n",
      " 12  user_type                312902 non-null  object \n",
      " 13  member_birth_year        287936 non-null  float64\n",
      " 14  member_gender            288048 non-null  object \n",
      " 15  bike_share_for_all_trip  312902 non-null  object \n",
      "dtypes: float64(5), int64(4), object(7)\n",
      "memory usage: 40.6+ MB\n"
     ]
    }
   ],
   "source": [
    "df.info()"
   ]
  },
  {
   "cell_type": "markdown",
   "metadata": {},
   "source": [
    "#### Pyspark:"
   ]
  },
  {
   "cell_type": "code",
   "execution_count": null,
   "metadata": {},
   "outputs": [],
   "source": []
  },
  {
   "cell_type": "markdown",
   "metadata": {},
   "source": [
    "### Print ot all column names:"
   ]
  },
  {
   "cell_type": "markdown",
   "metadata": {},
   "source": [
    "#### Pandas:"
   ]
  },
  {
   "cell_type": "code",
   "execution_count": 7,
   "metadata": {},
   "outputs": [
    {
     "data": {
      "text/plain": [
       "['duration_sec',\n",
       " 'start_time',\n",
       " 'end_time',\n",
       " 'start_station_id',\n",
       " 'start_station_name',\n",
       " 'start_station_latitude',\n",
       " 'start_station_longitude',\n",
       " 'end_station_id',\n",
       " 'end_station_name',\n",
       " 'end_station_latitude',\n",
       " 'end_station_longitude',\n",
       " 'bike_id',\n",
       " 'user_type',\n",
       " 'member_birth_year',\n",
       " 'member_gender',\n",
       " 'bike_share_for_all_trip']"
      ]
     },
     "execution_count": 7,
     "metadata": {},
     "output_type": "execute_result"
    }
   ],
   "source": [
    "#print all col names:\n",
    "list(df.columns)"
   ]
  },
  {
   "cell_type": "markdown",
   "metadata": {},
   "source": [
    "#### Pyspark:"
   ]
  },
  {
   "cell_type": "code",
   "execution_count": null,
   "metadata": {},
   "outputs": [],
   "source": []
  },
  {
   "cell_type": "markdown",
   "metadata": {},
   "source": [
    "## Transforming Data:"
   ]
  },
  {
   "cell_type": "markdown",
   "metadata": {},
   "source": [
    "### Rename 2 columns:"
   ]
  },
  {
   "cell_type": "markdown",
   "metadata": {},
   "source": [
    "#### Pandas: "
   ]
  },
  {
   "cell_type": "code",
   "execution_count": 8,
   "metadata": {},
   "outputs": [],
   "source": [
    "df.rename(columns = {'start_station_latitude': 'start_station_lat',\n",
    "                     'end_station_latitude': 'end_station_lat'}, inplace = True)"
   ]
  },
  {
   "cell_type": "markdown",
   "metadata": {},
   "source": [
    "#### Pyspark:"
   ]
  },
  {
   "cell_type": "code",
   "execution_count": null,
   "metadata": {},
   "outputs": [],
   "source": []
  },
  {
   "cell_type": "markdown",
   "metadata": {},
   "source": [
    "### Change Datatypes:\n",
    "- change 'start_time' to datetime and clean up values to only include Y M D\n",
    "- change duration_sec, longitude and latitude columns to float"
   ]
  },
  {
   "cell_type": "markdown",
   "metadata": {},
   "source": [
    "#### Pandas:\n"
   ]
  },
  {
   "cell_type": "code",
   "execution_count": 9,
   "metadata": {},
   "outputs": [
    {
     "data": {
      "text/plain": [
       "0    2018-01-31 22:52:35.2390\n",
       "Name: start_time, dtype: object"
      ]
     },
     "execution_count": 9,
     "metadata": {},
     "output_type": "execute_result"
    }
   ],
   "source": [
    "#Before datetime convertion:\n",
    "df.start_time.head(1)"
   ]
  },
  {
   "cell_type": "code",
   "execution_count": 10,
   "metadata": {},
   "outputs": [],
   "source": [
    "df['start_time'] = pd.to_datetime(df['start_time']).dt.normalize()"
   ]
  },
  {
   "cell_type": "code",
   "execution_count": 11,
   "metadata": {},
   "outputs": [
    {
     "data": {
      "text/plain": [
       "0   2018-01-31\n",
       "Name: start_time, dtype: datetime64[ns]"
      ]
     },
     "execution_count": 11,
     "metadata": {},
     "output_type": "execute_result"
    }
   ],
   "source": [
    "#after datetime convertion:\n",
    "df.start_time.head(1)"
   ]
  },
  {
   "cell_type": "code",
   "execution_count": 12,
   "metadata": {},
   "outputs": [],
   "source": [
    "#to float:\n",
    "cols = ['duration_sec',\n",
    "        'start_station_lat', \n",
    "        'start_station_longitude',\n",
    "        'end_station_lat', \n",
    "        'end_station_longitude']\n",
    "\n",
    "for col in cols:\n",
    "    df[col] = df[col].astype(float)"
   ]
  },
  {
   "cell_type": "markdown",
   "metadata": {},
   "source": [
    "#### Pyspark:"
   ]
  },
  {
   "cell_type": "code",
   "execution_count": null,
   "metadata": {},
   "outputs": [],
   "source": []
  },
  {
   "cell_type": "code",
   "execution_count": null,
   "metadata": {},
   "outputs": [],
   "source": []
  },
  {
   "cell_type": "code",
   "execution_count": null,
   "metadata": {},
   "outputs": [],
   "source": []
  },
  {
   "cell_type": "markdown",
   "metadata": {},
   "source": [
    "### Remove all whitespaces:"
   ]
  },
  {
   "cell_type": "markdown",
   "metadata": {},
   "source": [
    "#### Pandas:"
   ]
  },
  {
   "cell_type": "code",
   "execution_count": 13,
   "metadata": {},
   "outputs": [],
   "source": [
    "#remove from entire df:\n",
    "df = df.applymap(lambda x: x.strip() if isinstance(x, str) else x)"
   ]
  },
  {
   "cell_type": "markdown",
   "metadata": {},
   "source": [
    "#### Pyspark:"
   ]
  },
  {
   "cell_type": "code",
   "execution_count": null,
   "metadata": {},
   "outputs": [],
   "source": []
  },
  {
   "cell_type": "markdown",
   "metadata": {},
   "source": [
    "### Make all column names uppercase:"
   ]
  },
  {
   "cell_type": "markdown",
   "metadata": {},
   "source": [
    "#### Pandas:"
   ]
  },
  {
   "cell_type": "code",
   "execution_count": 14,
   "metadata": {},
   "outputs": [],
   "source": [
    "df.columns = df.columns.str.upper()\n",
    "\n",
    "#OR list comprehension:\n",
    "#df.columns = [x.upper() for x in df.columns]"
   ]
  },
  {
   "cell_type": "code",
   "execution_count": 15,
   "metadata": {},
   "outputs": [
    {
     "data": {
      "text/html": [
       "<div>\n",
       "<style scoped>\n",
       "    .dataframe tbody tr th:only-of-type {\n",
       "        vertical-align: middle;\n",
       "    }\n",
       "\n",
       "    .dataframe tbody tr th {\n",
       "        vertical-align: top;\n",
       "    }\n",
       "\n",
       "    .dataframe thead th {\n",
       "        text-align: right;\n",
       "    }\n",
       "</style>\n",
       "<table border=\"1\" class=\"dataframe\">\n",
       "  <thead>\n",
       "    <tr style=\"text-align: right;\">\n",
       "      <th></th>\n",
       "      <th>DURATION_SEC</th>\n",
       "      <th>START_TIME</th>\n",
       "      <th>END_TIME</th>\n",
       "      <th>START_STATION_ID</th>\n",
       "      <th>START_STATION_NAME</th>\n",
       "      <th>START_STATION_LAT</th>\n",
       "      <th>START_STATION_LONGITUDE</th>\n",
       "      <th>END_STATION_ID</th>\n",
       "      <th>END_STATION_NAME</th>\n",
       "      <th>END_STATION_LAT</th>\n",
       "      <th>END_STATION_LONGITUDE</th>\n",
       "      <th>BIKE_ID</th>\n",
       "      <th>USER_TYPE</th>\n",
       "      <th>MEMBER_BIRTH_YEAR</th>\n",
       "      <th>MEMBER_GENDER</th>\n",
       "      <th>BIKE_SHARE_FOR_ALL_TRIP</th>\n",
       "    </tr>\n",
       "  </thead>\n",
       "  <tbody>\n",
       "    <tr>\n",
       "      <th>0</th>\n",
       "      <td>75284.0</td>\n",
       "      <td>2018-01-31</td>\n",
       "      <td>2018-02-01 19:47:19.8240</td>\n",
       "      <td>120</td>\n",
       "      <td>Mission Dolores Park</td>\n",
       "      <td>37.761420</td>\n",
       "      <td>-122.426435</td>\n",
       "      <td>285</td>\n",
       "      <td>Webster St at O'Farrell St</td>\n",
       "      <td>37.783521</td>\n",
       "      <td>-122.431158</td>\n",
       "      <td>2765</td>\n",
       "      <td>Subscriber</td>\n",
       "      <td>1986.0</td>\n",
       "      <td>Male</td>\n",
       "      <td>No</td>\n",
       "    </tr>\n",
       "    <tr>\n",
       "      <th>1</th>\n",
       "      <td>85422.0</td>\n",
       "      <td>2018-01-31</td>\n",
       "      <td>2018-02-01 15:57:17.3100</td>\n",
       "      <td>15</td>\n",
       "      <td>San Francisco Ferry Building (Harry Bridges Pl...</td>\n",
       "      <td>37.795392</td>\n",
       "      <td>-122.394203</td>\n",
       "      <td>15</td>\n",
       "      <td>San Francisco Ferry Building (Harry Bridges Pl...</td>\n",
       "      <td>37.795392</td>\n",
       "      <td>-122.394203</td>\n",
       "      <td>2815</td>\n",
       "      <td>Customer</td>\n",
       "      <td>NaN</td>\n",
       "      <td>NaN</td>\n",
       "      <td>No</td>\n",
       "    </tr>\n",
       "  </tbody>\n",
       "</table>\n",
       "</div>"
      ],
      "text/plain": [
       "   DURATION_SEC START_TIME                  END_TIME  START_STATION_ID  \\\n",
       "0       75284.0 2018-01-31  2018-02-01 19:47:19.8240               120   \n",
       "1       85422.0 2018-01-31  2018-02-01 15:57:17.3100                15   \n",
       "\n",
       "                                  START_STATION_NAME  START_STATION_LAT  \\\n",
       "0                               Mission Dolores Park          37.761420   \n",
       "1  San Francisco Ferry Building (Harry Bridges Pl...          37.795392   \n",
       "\n",
       "   START_STATION_LONGITUDE  END_STATION_ID  \\\n",
       "0              -122.426435             285   \n",
       "1              -122.394203              15   \n",
       "\n",
       "                                    END_STATION_NAME  END_STATION_LAT  \\\n",
       "0                         Webster St at O'Farrell St        37.783521   \n",
       "1  San Francisco Ferry Building (Harry Bridges Pl...        37.795392   \n",
       "\n",
       "   END_STATION_LONGITUDE  BIKE_ID   USER_TYPE  MEMBER_BIRTH_YEAR  \\\n",
       "0            -122.431158     2765  Subscriber             1986.0   \n",
       "1            -122.394203     2815    Customer                NaN   \n",
       "\n",
       "  MEMBER_GENDER BIKE_SHARE_FOR_ALL_TRIP  \n",
       "0          Male                      No  \n",
       "1           NaN                      No  "
      ]
     },
     "execution_count": 15,
     "metadata": {},
     "output_type": "execute_result"
    }
   ],
   "source": [
    "#test\n",
    "df.head(2)"
   ]
  },
  {
   "cell_type": "markdown",
   "metadata": {},
   "source": [
    "#### Pyspark:"
   ]
  },
  {
   "cell_type": "code",
   "execution_count": null,
   "metadata": {},
   "outputs": [],
   "source": []
  },
  {
   "cell_type": "markdown",
   "metadata": {},
   "source": [
    "### Remove unwanted columns:"
   ]
  },
  {
   "cell_type": "markdown",
   "metadata": {},
   "source": [
    "#### Pandas:"
   ]
  },
  {
   "cell_type": "code",
   "execution_count": 16,
   "metadata": {},
   "outputs": [
    {
     "data": {
      "text/plain": [
       "['DURATION_SEC',\n",
       " 'START_TIME',\n",
       " 'END_TIME',\n",
       " 'START_STATION_ID',\n",
       " 'START_STATION_NAME',\n",
       " 'START_STATION_LAT',\n",
       " 'START_STATION_LONGITUDE',\n",
       " 'END_STATION_ID',\n",
       " 'END_STATION_NAME',\n",
       " 'END_STATION_LAT',\n",
       " 'END_STATION_LONGITUDE',\n",
       " 'BIKE_ID',\n",
       " 'USER_TYPE',\n",
       " 'MEMBER_BIRTH_YEAR',\n",
       " 'MEMBER_GENDER',\n",
       " 'BIKE_SHARE_FOR_ALL_TRIP']"
      ]
     },
     "execution_count": 16,
     "metadata": {},
     "output_type": "execute_result"
    }
   ],
   "source": [
    "list(df.columns)"
   ]
  },
  {
   "cell_type": "code",
   "execution_count": 17,
   "metadata": {},
   "outputs": [],
   "source": [
    "#select cols to keep:\n",
    "df = df[['DURATION_SEC',\n",
    "     'START_TIME',\n",
    "     'END_TIME','BIKE_ID',\n",
    "     'USER_TYPE',\n",
    "     'MEMBER_BIRTH_YEAR',\n",
    "     'MEMBER_GENDER']]"
   ]
  },
  {
   "cell_type": "code",
   "execution_count": 18,
   "metadata": {},
   "outputs": [
    {
     "data": {
      "text/html": [
       "<div>\n",
       "<style scoped>\n",
       "    .dataframe tbody tr th:only-of-type {\n",
       "        vertical-align: middle;\n",
       "    }\n",
       "\n",
       "    .dataframe tbody tr th {\n",
       "        vertical-align: top;\n",
       "    }\n",
       "\n",
       "    .dataframe thead th {\n",
       "        text-align: right;\n",
       "    }\n",
       "</style>\n",
       "<table border=\"1\" class=\"dataframe\">\n",
       "  <thead>\n",
       "    <tr style=\"text-align: right;\">\n",
       "      <th></th>\n",
       "      <th>DURATION_SEC</th>\n",
       "      <th>START_TIME</th>\n",
       "      <th>END_TIME</th>\n",
       "      <th>BIKE_ID</th>\n",
       "      <th>USER_TYPE</th>\n",
       "      <th>MEMBER_BIRTH_YEAR</th>\n",
       "      <th>MEMBER_GENDER</th>\n",
       "    </tr>\n",
       "  </thead>\n",
       "  <tbody>\n",
       "    <tr>\n",
       "      <th>0</th>\n",
       "      <td>75284.0</td>\n",
       "      <td>2018-01-31</td>\n",
       "      <td>2018-02-01 19:47:19.8240</td>\n",
       "      <td>2765</td>\n",
       "      <td>Subscriber</td>\n",
       "      <td>1986.0</td>\n",
       "      <td>Male</td>\n",
       "    </tr>\n",
       "    <tr>\n",
       "      <th>1</th>\n",
       "      <td>85422.0</td>\n",
       "      <td>2018-01-31</td>\n",
       "      <td>2018-02-01 15:57:17.3100</td>\n",
       "      <td>2815</td>\n",
       "      <td>Customer</td>\n",
       "      <td>NaN</td>\n",
       "      <td>NaN</td>\n",
       "    </tr>\n",
       "  </tbody>\n",
       "</table>\n",
       "</div>"
      ],
      "text/plain": [
       "   DURATION_SEC START_TIME                  END_TIME  BIKE_ID   USER_TYPE  \\\n",
       "0       75284.0 2018-01-31  2018-02-01 19:47:19.8240     2765  Subscriber   \n",
       "1       85422.0 2018-01-31  2018-02-01 15:57:17.3100     2815    Customer   \n",
       "\n",
       "   MEMBER_BIRTH_YEAR MEMBER_GENDER  \n",
       "0             1986.0          Male  \n",
       "1                NaN           NaN  "
      ]
     },
     "execution_count": 18,
     "metadata": {},
     "output_type": "execute_result"
    }
   ],
   "source": [
    "#test:\n",
    "df.head(2)"
   ]
  },
  {
   "cell_type": "markdown",
   "metadata": {},
   "source": [
    "#### Pyspark:"
   ]
  },
  {
   "cell_type": "code",
   "execution_count": null,
   "metadata": {},
   "outputs": [],
   "source": []
  },
  {
   "cell_type": "code",
   "execution_count": null,
   "metadata": {},
   "outputs": [],
   "source": []
  },
  {
   "cell_type": "markdown",
   "metadata": {},
   "source": [
    "### Change columns back to lowercase:"
   ]
  },
  {
   "cell_type": "markdown",
   "metadata": {},
   "source": [
    "#### Pandas:"
   ]
  },
  {
   "cell_type": "code",
   "execution_count": 19,
   "metadata": {},
   "outputs": [],
   "source": [
    "df.columns = df.columns.str.lower()"
   ]
  },
  {
   "cell_type": "code",
   "execution_count": null,
   "metadata": {},
   "outputs": [],
   "source": []
  },
  {
   "cell_type": "markdown",
   "metadata": {},
   "source": [
    "#### Pyspark:"
   ]
  },
  {
   "cell_type": "code",
   "execution_count": null,
   "metadata": {},
   "outputs": [],
   "source": []
  },
  {
   "cell_type": "markdown",
   "metadata": {},
   "source": [
    "### Remove null values from member birth year:"
   ]
  },
  {
   "cell_type": "markdown",
   "metadata": {},
   "source": [
    "#### Pandas:"
   ]
  },
  {
   "cell_type": "code",
   "execution_count": 20,
   "metadata": {},
   "outputs": [],
   "source": [
    "import warnings\n",
    "warnings.filterwarnings('ignore') #so that warnings are not printed\n",
    "\n",
    "df.dropna(subset = ['member_birth_year'], inplace = True)"
   ]
  },
  {
   "cell_type": "markdown",
   "metadata": {},
   "source": [
    "#### Pyspark:"
   ]
  },
  {
   "cell_type": "code",
   "execution_count": null,
   "metadata": {},
   "outputs": [],
   "source": []
  },
  {
   "cell_type": "markdown",
   "metadata": {},
   "source": [
    "### Create a new column member_age:"
   ]
  },
  {
   "cell_type": "markdown",
   "metadata": {},
   "source": [
    "#### Pandas:\n"
   ]
  },
  {
   "cell_type": "code",
   "execution_count": 21,
   "metadata": {},
   "outputs": [],
   "source": [
    "df['member_age'] = 2018 - df['member_birth_year'].astype(int)"
   ]
  },
  {
   "cell_type": "code",
   "execution_count": 22,
   "metadata": {},
   "outputs": [
    {
     "data": {
      "text/html": [
       "<div>\n",
       "<style scoped>\n",
       "    .dataframe tbody tr th:only-of-type {\n",
       "        vertical-align: middle;\n",
       "    }\n",
       "\n",
       "    .dataframe tbody tr th {\n",
       "        vertical-align: top;\n",
       "    }\n",
       "\n",
       "    .dataframe thead th {\n",
       "        text-align: right;\n",
       "    }\n",
       "</style>\n",
       "<table border=\"1\" class=\"dataframe\">\n",
       "  <thead>\n",
       "    <tr style=\"text-align: right;\">\n",
       "      <th></th>\n",
       "      <th>duration_sec</th>\n",
       "      <th>start_time</th>\n",
       "      <th>end_time</th>\n",
       "      <th>bike_id</th>\n",
       "      <th>user_type</th>\n",
       "      <th>member_birth_year</th>\n",
       "      <th>member_gender</th>\n",
       "      <th>member_age</th>\n",
       "    </tr>\n",
       "  </thead>\n",
       "  <tbody>\n",
       "    <tr>\n",
       "      <th>0</th>\n",
       "      <td>75284.0</td>\n",
       "      <td>2018-01-31</td>\n",
       "      <td>2018-02-01 19:47:19.8240</td>\n",
       "      <td>2765</td>\n",
       "      <td>Subscriber</td>\n",
       "      <td>1986.0</td>\n",
       "      <td>Male</td>\n",
       "      <td>32</td>\n",
       "    </tr>\n",
       "    <tr>\n",
       "      <th>2</th>\n",
       "      <td>71576.0</td>\n",
       "      <td>2018-01-31</td>\n",
       "      <td>2018-02-01 10:16:52.1160</td>\n",
       "      <td>3039</td>\n",
       "      <td>Customer</td>\n",
       "      <td>1996.0</td>\n",
       "      <td>Male</td>\n",
       "      <td>22</td>\n",
       "    </tr>\n",
       "    <tr>\n",
       "      <th>4</th>\n",
       "      <td>39966.0</td>\n",
       "      <td>2018-01-31</td>\n",
       "      <td>2018-02-01 06:58:31.0530</td>\n",
       "      <td>617</td>\n",
       "      <td>Subscriber</td>\n",
       "      <td>1991.0</td>\n",
       "      <td>Male</td>\n",
       "      <td>27</td>\n",
       "    </tr>\n",
       "    <tr>\n",
       "      <th>6</th>\n",
       "      <td>453.0</td>\n",
       "      <td>2018-01-31</td>\n",
       "      <td>2018-02-01 00:01:26.8050</td>\n",
       "      <td>3571</td>\n",
       "      <td>Subscriber</td>\n",
       "      <td>1988.0</td>\n",
       "      <td>Male</td>\n",
       "      <td>30</td>\n",
       "    </tr>\n",
       "    <tr>\n",
       "      <th>7</th>\n",
       "      <td>180.0</td>\n",
       "      <td>2018-01-31</td>\n",
       "      <td>2018-01-31 23:55:10.8070</td>\n",
       "      <td>1403</td>\n",
       "      <td>Subscriber</td>\n",
       "      <td>1980.0</td>\n",
       "      <td>Male</td>\n",
       "      <td>38</td>\n",
       "    </tr>\n",
       "  </tbody>\n",
       "</table>\n",
       "</div>"
      ],
      "text/plain": [
       "   duration_sec start_time                  end_time  bike_id   user_type  \\\n",
       "0       75284.0 2018-01-31  2018-02-01 19:47:19.8240     2765  Subscriber   \n",
       "2       71576.0 2018-01-31  2018-02-01 10:16:52.1160     3039    Customer   \n",
       "4       39966.0 2018-01-31  2018-02-01 06:58:31.0530      617  Subscriber   \n",
       "6         453.0 2018-01-31  2018-02-01 00:01:26.8050     3571  Subscriber   \n",
       "7         180.0 2018-01-31  2018-01-31 23:55:10.8070     1403  Subscriber   \n",
       "\n",
       "   member_birth_year member_gender  member_age  \n",
       "0             1986.0          Male          32  \n",
       "2             1996.0          Male          22  \n",
       "4             1991.0          Male          27  \n",
       "6             1988.0          Male          30  \n",
       "7             1980.0          Male          38  "
      ]
     },
     "execution_count": 22,
     "metadata": {},
     "output_type": "execute_result"
    }
   ],
   "source": [
    "#test:\n",
    "df.head()"
   ]
  },
  {
   "cell_type": "markdown",
   "metadata": {},
   "source": [
    "#### Pyspark:"
   ]
  },
  {
   "cell_type": "code",
   "execution_count": null,
   "metadata": {},
   "outputs": [],
   "source": []
  },
  {
   "cell_type": "markdown",
   "metadata": {},
   "source": [
    "### Create a new col age_group by grouping ages:"
   ]
  },
  {
   "cell_type": "markdown",
   "metadata": {},
   "source": [
    "#### Pandas:"
   ]
  },
  {
   "cell_type": "code",
   "execution_count": 23,
   "metadata": {},
   "outputs": [],
   "source": [
    "bins = [18, 25, 40, 60, 118] #18-25, 26-40, 41-60, 61-118\n",
    "labels = ['young_adult', 'adult', 'middle_age', 'mature_adult']\n",
    "\n",
    "df['age_groups'] = pd.cut(df['member_age'], bins = bins, labels = labels)"
   ]
  },
  {
   "cell_type": "code",
   "execution_count": 24,
   "metadata": {},
   "outputs": [
    {
     "data": {
      "text/html": [
       "<div>\n",
       "<style scoped>\n",
       "    .dataframe tbody tr th:only-of-type {\n",
       "        vertical-align: middle;\n",
       "    }\n",
       "\n",
       "    .dataframe tbody tr th {\n",
       "        vertical-align: top;\n",
       "    }\n",
       "\n",
       "    .dataframe thead th {\n",
       "        text-align: right;\n",
       "    }\n",
       "</style>\n",
       "<table border=\"1\" class=\"dataframe\">\n",
       "  <thead>\n",
       "    <tr style=\"text-align: right;\">\n",
       "      <th></th>\n",
       "      <th>duration_sec</th>\n",
       "      <th>start_time</th>\n",
       "      <th>end_time</th>\n",
       "      <th>bike_id</th>\n",
       "      <th>user_type</th>\n",
       "      <th>member_birth_year</th>\n",
       "      <th>member_gender</th>\n",
       "      <th>member_age</th>\n",
       "      <th>age_groups</th>\n",
       "    </tr>\n",
       "  </thead>\n",
       "  <tbody>\n",
       "    <tr>\n",
       "      <th>0</th>\n",
       "      <td>75284.0</td>\n",
       "      <td>2018-01-31</td>\n",
       "      <td>2018-02-01 19:47:19.8240</td>\n",
       "      <td>2765</td>\n",
       "      <td>Subscriber</td>\n",
       "      <td>1986.0</td>\n",
       "      <td>Male</td>\n",
       "      <td>32</td>\n",
       "      <td>adult</td>\n",
       "    </tr>\n",
       "    <tr>\n",
       "      <th>2</th>\n",
       "      <td>71576.0</td>\n",
       "      <td>2018-01-31</td>\n",
       "      <td>2018-02-01 10:16:52.1160</td>\n",
       "      <td>3039</td>\n",
       "      <td>Customer</td>\n",
       "      <td>1996.0</td>\n",
       "      <td>Male</td>\n",
       "      <td>22</td>\n",
       "      <td>young_adult</td>\n",
       "    </tr>\n",
       "    <tr>\n",
       "      <th>4</th>\n",
       "      <td>39966.0</td>\n",
       "      <td>2018-01-31</td>\n",
       "      <td>2018-02-01 06:58:31.0530</td>\n",
       "      <td>617</td>\n",
       "      <td>Subscriber</td>\n",
       "      <td>1991.0</td>\n",
       "      <td>Male</td>\n",
       "      <td>27</td>\n",
       "      <td>adult</td>\n",
       "    </tr>\n",
       "    <tr>\n",
       "      <th>6</th>\n",
       "      <td>453.0</td>\n",
       "      <td>2018-01-31</td>\n",
       "      <td>2018-02-01 00:01:26.8050</td>\n",
       "      <td>3571</td>\n",
       "      <td>Subscriber</td>\n",
       "      <td>1988.0</td>\n",
       "      <td>Male</td>\n",
       "      <td>30</td>\n",
       "      <td>adult</td>\n",
       "    </tr>\n",
       "    <tr>\n",
       "      <th>7</th>\n",
       "      <td>180.0</td>\n",
       "      <td>2018-01-31</td>\n",
       "      <td>2018-01-31 23:55:10.8070</td>\n",
       "      <td>1403</td>\n",
       "      <td>Subscriber</td>\n",
       "      <td>1980.0</td>\n",
       "      <td>Male</td>\n",
       "      <td>38</td>\n",
       "      <td>adult</td>\n",
       "    </tr>\n",
       "  </tbody>\n",
       "</table>\n",
       "</div>"
      ],
      "text/plain": [
       "   duration_sec start_time                  end_time  bike_id   user_type  \\\n",
       "0       75284.0 2018-01-31  2018-02-01 19:47:19.8240     2765  Subscriber   \n",
       "2       71576.0 2018-01-31  2018-02-01 10:16:52.1160     3039    Customer   \n",
       "4       39966.0 2018-01-31  2018-02-01 06:58:31.0530      617  Subscriber   \n",
       "6         453.0 2018-01-31  2018-02-01 00:01:26.8050     3571  Subscriber   \n",
       "7         180.0 2018-01-31  2018-01-31 23:55:10.8070     1403  Subscriber   \n",
       "\n",
       "   member_birth_year member_gender  member_age   age_groups  \n",
       "0             1986.0          Male          32        adult  \n",
       "2             1996.0          Male          22  young_adult  \n",
       "4             1991.0          Male          27        adult  \n",
       "6             1988.0          Male          30        adult  \n",
       "7             1980.0          Male          38        adult  "
      ]
     },
     "execution_count": 24,
     "metadata": {},
     "output_type": "execute_result"
    }
   ],
   "source": [
    "#test:\n",
    "df.head()"
   ]
  },
  {
   "cell_type": "markdown",
   "metadata": {},
   "source": [
    "#### Pyspark:\n",
    "\n",
    "[Pyspark when, otherwise](https://sparkbyexamples.com/pyspark/pyspark-when-otherwise/)\n",
    "\n",
    "[pyspark.sql.Column.between](https://spark.apache.org/docs/latest/api/python/reference/api/pyspark.sql.Column.between.html)"
   ]
  },
  {
   "cell_type": "code",
   "execution_count": null,
   "metadata": {},
   "outputs": [],
   "source": []
  },
  {
   "cell_type": "code",
   "execution_count": null,
   "metadata": {},
   "outputs": [],
   "source": []
  },
  {
   "cell_type": "markdown",
   "metadata": {},
   "source": [
    "### Create a new day of the week column based on entries in the start_time col "
   ]
  },
  {
   "cell_type": "markdown",
   "metadata": {},
   "source": [
    "#### Pandas:"
   ]
  },
  {
   "cell_type": "code",
   "execution_count": 25,
   "metadata": {},
   "outputs": [],
   "source": [
    "#extract weekday from start_time in df:\n",
    "df['weekday'] = df['start_time'].dt.day_name()"
   ]
  },
  {
   "cell_type": "code",
   "execution_count": 26,
   "metadata": {},
   "outputs": [
    {
     "data": {
      "text/plain": [
       "Wednesday    52497\n",
       "Tuesday      51812\n",
       "Thursday     49901\n",
       "Friday       47521\n",
       "Monday       42441\n",
       "Saturday     24707\n",
       "Sunday       19057\n",
       "Name: weekday, dtype: int64"
      ]
     },
     "execution_count": 26,
     "metadata": {},
     "output_type": "execute_result"
    }
   ],
   "source": [
    "#test:\n",
    "df.weekday.value_counts()"
   ]
  },
  {
   "cell_type": "markdown",
   "metadata": {},
   "source": [
    "#### Pyspark: \n",
    "\n",
    "[get weekday Pyspark](https://www.datasciencemadesimple.com/get-day-of-month-day-of-year-day-of-week-from-date-in-pyspark/)"
   ]
  },
  {
   "cell_type": "code",
   "execution_count": null,
   "metadata": {},
   "outputs": [],
   "source": [
    "from pyspark.sql.functions import date_format\n"
   ]
  },
  {
   "cell_type": "markdown",
   "metadata": {},
   "source": [
    "### Create a duration minutes col based on entries in the duration sec col:"
   ]
  },
  {
   "cell_type": "markdown",
   "metadata": {},
   "source": [
    "#### Pandas:"
   ]
  },
  {
   "cell_type": "code",
   "execution_count": 27,
   "metadata": {},
   "outputs": [],
   "source": [
    "df['dur_min'] = (df['duration_sec'] / 60).round(2) # round off to 2 decimal places"
   ]
  },
  {
   "cell_type": "code",
   "execution_count": 28,
   "metadata": {},
   "outputs": [
    {
     "data": {
      "text/html": [
       "<div>\n",
       "<style scoped>\n",
       "    .dataframe tbody tr th:only-of-type {\n",
       "        vertical-align: middle;\n",
       "    }\n",
       "\n",
       "    .dataframe tbody tr th {\n",
       "        vertical-align: top;\n",
       "    }\n",
       "\n",
       "    .dataframe thead th {\n",
       "        text-align: right;\n",
       "    }\n",
       "</style>\n",
       "<table border=\"1\" class=\"dataframe\">\n",
       "  <thead>\n",
       "    <tr style=\"text-align: right;\">\n",
       "      <th></th>\n",
       "      <th>duration_sec</th>\n",
       "      <th>start_time</th>\n",
       "      <th>end_time</th>\n",
       "      <th>bike_id</th>\n",
       "      <th>user_type</th>\n",
       "      <th>member_birth_year</th>\n",
       "      <th>member_gender</th>\n",
       "      <th>member_age</th>\n",
       "      <th>age_groups</th>\n",
       "      <th>weekday</th>\n",
       "      <th>dur_min</th>\n",
       "    </tr>\n",
       "  </thead>\n",
       "  <tbody>\n",
       "    <tr>\n",
       "      <th>0</th>\n",
       "      <td>75284.0</td>\n",
       "      <td>2018-01-31</td>\n",
       "      <td>2018-02-01 19:47:19.8240</td>\n",
       "      <td>2765</td>\n",
       "      <td>Subscriber</td>\n",
       "      <td>1986.0</td>\n",
       "      <td>Male</td>\n",
       "      <td>32</td>\n",
       "      <td>adult</td>\n",
       "      <td>Wednesday</td>\n",
       "      <td>1254.73</td>\n",
       "    </tr>\n",
       "    <tr>\n",
       "      <th>2</th>\n",
       "      <td>71576.0</td>\n",
       "      <td>2018-01-31</td>\n",
       "      <td>2018-02-01 10:16:52.1160</td>\n",
       "      <td>3039</td>\n",
       "      <td>Customer</td>\n",
       "      <td>1996.0</td>\n",
       "      <td>Male</td>\n",
       "      <td>22</td>\n",
       "      <td>young_adult</td>\n",
       "      <td>Wednesday</td>\n",
       "      <td>1192.93</td>\n",
       "    </tr>\n",
       "    <tr>\n",
       "      <th>4</th>\n",
       "      <td>39966.0</td>\n",
       "      <td>2018-01-31</td>\n",
       "      <td>2018-02-01 06:58:31.0530</td>\n",
       "      <td>617</td>\n",
       "      <td>Subscriber</td>\n",
       "      <td>1991.0</td>\n",
       "      <td>Male</td>\n",
       "      <td>27</td>\n",
       "      <td>adult</td>\n",
       "      <td>Wednesday</td>\n",
       "      <td>666.10</td>\n",
       "    </tr>\n",
       "    <tr>\n",
       "      <th>6</th>\n",
       "      <td>453.0</td>\n",
       "      <td>2018-01-31</td>\n",
       "      <td>2018-02-01 00:01:26.8050</td>\n",
       "      <td>3571</td>\n",
       "      <td>Subscriber</td>\n",
       "      <td>1988.0</td>\n",
       "      <td>Male</td>\n",
       "      <td>30</td>\n",
       "      <td>adult</td>\n",
       "      <td>Wednesday</td>\n",
       "      <td>7.55</td>\n",
       "    </tr>\n",
       "    <tr>\n",
       "      <th>7</th>\n",
       "      <td>180.0</td>\n",
       "      <td>2018-01-31</td>\n",
       "      <td>2018-01-31 23:55:10.8070</td>\n",
       "      <td>1403</td>\n",
       "      <td>Subscriber</td>\n",
       "      <td>1980.0</td>\n",
       "      <td>Male</td>\n",
       "      <td>38</td>\n",
       "      <td>adult</td>\n",
       "      <td>Wednesday</td>\n",
       "      <td>3.00</td>\n",
       "    </tr>\n",
       "  </tbody>\n",
       "</table>\n",
       "</div>"
      ],
      "text/plain": [
       "   duration_sec start_time                  end_time  bike_id   user_type  \\\n",
       "0       75284.0 2018-01-31  2018-02-01 19:47:19.8240     2765  Subscriber   \n",
       "2       71576.0 2018-01-31  2018-02-01 10:16:52.1160     3039    Customer   \n",
       "4       39966.0 2018-01-31  2018-02-01 06:58:31.0530      617  Subscriber   \n",
       "6         453.0 2018-01-31  2018-02-01 00:01:26.8050     3571  Subscriber   \n",
       "7         180.0 2018-01-31  2018-01-31 23:55:10.8070     1403  Subscriber   \n",
       "\n",
       "   member_birth_year member_gender  member_age   age_groups    weekday  \\\n",
       "0             1986.0          Male          32        adult  Wednesday   \n",
       "2             1996.0          Male          22  young_adult  Wednesday   \n",
       "4             1991.0          Male          27        adult  Wednesday   \n",
       "6             1988.0          Male          30        adult  Wednesday   \n",
       "7             1980.0          Male          38        adult  Wednesday   \n",
       "\n",
       "   dur_min  \n",
       "0  1254.73  \n",
       "2  1192.93  \n",
       "4   666.10  \n",
       "6     7.55  \n",
       "7     3.00  "
      ]
     },
     "execution_count": 28,
     "metadata": {},
     "output_type": "execute_result"
    }
   ],
   "source": [
    "#test:\n",
    "df.head()"
   ]
  },
  {
   "cell_type": "markdown",
   "metadata": {},
   "source": [
    "#### Pyspark:"
   ]
  },
  {
   "cell_type": "code",
   "execution_count": null,
   "metadata": {},
   "outputs": [],
   "source": []
  },
  {
   "cell_type": "markdown",
   "metadata": {},
   "source": [
    "### Looking into the data:"
   ]
  },
  {
   "cell_type": "markdown",
   "metadata": {},
   "source": [
    "#### Pandas Find the max and min duration in minutes (return a single value for each):"
   ]
  },
  {
   "cell_type": "code",
   "execution_count": 89,
   "metadata": {},
   "outputs": [
    {
     "data": {
      "text/plain": [
       "1424.52"
      ]
     },
     "execution_count": 89,
     "metadata": {},
     "output_type": "execute_result"
    }
   ],
   "source": [
    "#max:\n",
    "df.dur_min.max()"
   ]
  },
  {
   "cell_type": "code",
   "execution_count": 90,
   "metadata": {},
   "outputs": [
    {
     "data": {
      "text/plain": [
       "1.02"
      ]
     },
     "execution_count": 90,
     "metadata": {},
     "output_type": "execute_result"
    }
   ],
   "source": [
    "#min:\n",
    "df.dur_min.min()"
   ]
  },
  {
   "cell_type": "markdown",
   "metadata": {},
   "source": [
    "#### Pyspark Find the max and min duration in minutes (return a single value for each): Try another method besides .collect(), See [here](https://stackoverflow.com/a/61285268)"
   ]
  },
  {
   "cell_type": "code",
   "execution_count": null,
   "metadata": {},
   "outputs": [],
   "source": []
  },
  {
   "cell_type": "code",
   "execution_count": null,
   "metadata": {},
   "outputs": [],
   "source": []
  },
  {
   "cell_type": "markdown",
   "metadata": {},
   "source": [
    "#### show the total hours spend riding for each weekday"
   ]
  },
  {
   "cell_type": "markdown",
   "metadata": {},
   "source": [
    "#### Pandas:"
   ]
  },
  {
   "cell_type": "code",
   "execution_count": 78,
   "metadata": {},
   "outputs": [
    {
     "data": {
      "text/html": [
       "<div>\n",
       "<style scoped>\n",
       "    .dataframe tbody tr th:only-of-type {\n",
       "        vertical-align: middle;\n",
       "    }\n",
       "\n",
       "    .dataframe tbody tr th {\n",
       "        vertical-align: top;\n",
       "    }\n",
       "\n",
       "    .dataframe thead th {\n",
       "        text-align: right;\n",
       "    }\n",
       "</style>\n",
       "<table border=\"1\" class=\"dataframe\">\n",
       "  <thead>\n",
       "    <tr style=\"text-align: right;\">\n",
       "      <th></th>\n",
       "      <th>Week Days</th>\n",
       "      <th>dur_hrs</th>\n",
       "    </tr>\n",
       "  </thead>\n",
       "  <tbody>\n",
       "    <tr>\n",
       "      <th>0</th>\n",
       "      <td>Friday</td>\n",
       "      <td>9472.61</td>\n",
       "    </tr>\n",
       "    <tr>\n",
       "      <th>1</th>\n",
       "      <td>Monday</td>\n",
       "      <td>8307.63</td>\n",
       "    </tr>\n",
       "    <tr>\n",
       "      <th>2</th>\n",
       "      <td>Saturday</td>\n",
       "      <td>6740.77</td>\n",
       "    </tr>\n",
       "    <tr>\n",
       "      <th>3</th>\n",
       "      <td>Sunday</td>\n",
       "      <td>4838.48</td>\n",
       "    </tr>\n",
       "    <tr>\n",
       "      <th>4</th>\n",
       "      <td>Thursday</td>\n",
       "      <td>9555.82</td>\n",
       "    </tr>\n",
       "    <tr>\n",
       "      <th>5</th>\n",
       "      <td>Tuesday</td>\n",
       "      <td>10094.62</td>\n",
       "    </tr>\n",
       "    <tr>\n",
       "      <th>6</th>\n",
       "      <td>Wednesday</td>\n",
       "      <td>10134.89</td>\n",
       "    </tr>\n",
       "  </tbody>\n",
       "</table>\n",
       "</div>"
      ],
      "text/plain": [
       "   Week Days   dur_hrs\n",
       "0     Friday   9472.61\n",
       "1     Monday   8307.63\n",
       "2   Saturday   6740.77\n",
       "3     Sunday   4838.48\n",
       "4   Thursday   9555.82\n",
       "5    Tuesday  10094.62\n",
       "6  Wednesday  10134.89"
      ]
     },
     "execution_count": 78,
     "metadata": {},
     "output_type": "execute_result"
    }
   ],
   "source": [
    "(df.groupby('weekday')['dur_min'].sum()/60).round(2).rename_axis('Week Days').reset_index(name = 'dur_hrs')\n",
    "\n",
    "#OR\n",
    "\n",
    "#(df.groupby('weekday').agg({'dur_min':'sum'})/60).round(2)  #closer to pyspark syntax"
   ]
  },
  {
   "cell_type": "markdown",
   "metadata": {},
   "source": [
    "#### Pyspark:"
   ]
  },
  {
   "cell_type": "code",
   "execution_count": null,
   "metadata": {},
   "outputs": [],
   "source": []
  },
  {
   "cell_type": "code",
   "execution_count": null,
   "metadata": {},
   "outputs": [],
   "source": []
  },
  {
   "cell_type": "markdown",
   "metadata": {},
   "source": [
    "#### On average, which age group spends more time riding in minutes?"
   ]
  },
  {
   "cell_type": "markdown",
   "metadata": {},
   "source": [
    "#### Pandas:"
   ]
  },
  {
   "cell_type": "code",
   "execution_count": 36,
   "metadata": {},
   "outputs": [
    {
     "data": {
      "text/plain": [
       "age_groups\n",
       "young_adult     13.49\n",
       "mature_adult    13.01\n",
       "middle_age      12.65\n",
       "adult           11.93\n",
       "Name: dur_min, dtype: float64"
      ]
     },
     "execution_count": 36,
     "metadata": {},
     "output_type": "execute_result"
    }
   ],
   "source": [
    "#find average time spend riding in minutes by age group and sort results by highest to lowest:\n",
    "(df.groupby('age_groups')['dur_min'].mean()).round(2).sort_values(ascending = False)"
   ]
  },
  {
   "cell_type": "markdown",
   "metadata": {},
   "source": [
    "#### Pyspark:"
   ]
  },
  {
   "cell_type": "code",
   "execution_count": null,
   "metadata": {},
   "outputs": [],
   "source": []
  },
  {
   "cell_type": "markdown",
   "metadata": {},
   "source": [
    "#### Create a new df that contains the total hours traveled for each bike(bike_id). Display top 10 records from highest to lowest."
   ]
  },
  {
   "cell_type": "markdown",
   "metadata": {},
   "source": [
    "#### Pandas:"
   ]
  },
  {
   "cell_type": "code",
   "execution_count": 72,
   "metadata": {},
   "outputs": [],
   "source": [
    "df2 = pd.DataFrame((df.groupby('bike_id')['dur_min'].sum()/60).round(2).rename_axis('Bikes').reset_index(name = 'dur_hrs'))"
   ]
  },
  {
   "cell_type": "code",
   "execution_count": 74,
   "metadata": {},
   "outputs": [
    {
     "data": {
      "text/html": [
       "<div>\n",
       "<style scoped>\n",
       "    .dataframe tbody tr th:only-of-type {\n",
       "        vertical-align: middle;\n",
       "    }\n",
       "\n",
       "    .dataframe tbody tr th {\n",
       "        vertical-align: top;\n",
       "    }\n",
       "\n",
       "    .dataframe thead th {\n",
       "        text-align: right;\n",
       "    }\n",
       "</style>\n",
       "<table border=\"1\" class=\"dataframe\">\n",
       "  <thead>\n",
       "    <tr style=\"text-align: right;\">\n",
       "      <th></th>\n",
       "      <th>Bikes</th>\n",
       "      <th>dur_hrs</th>\n",
       "    </tr>\n",
       "  </thead>\n",
       "  <tbody>\n",
       "    <tr>\n",
       "      <th>7</th>\n",
       "      <td>20</td>\n",
       "      <td>22.86</td>\n",
       "    </tr>\n",
       "    <tr>\n",
       "      <th>5</th>\n",
       "      <td>17</td>\n",
       "      <td>19.20</td>\n",
       "    </tr>\n",
       "    <tr>\n",
       "      <th>0</th>\n",
       "      <td>11</td>\n",
       "      <td>12.81</td>\n",
       "    </tr>\n",
       "    <tr>\n",
       "      <th>9</th>\n",
       "      <td>22</td>\n",
       "      <td>8.53</td>\n",
       "    </tr>\n",
       "    <tr>\n",
       "      <th>3</th>\n",
       "      <td>14</td>\n",
       "      <td>7.36</td>\n",
       "    </tr>\n",
       "    <tr>\n",
       "      <th>6</th>\n",
       "      <td>18</td>\n",
       "      <td>7.31</td>\n",
       "    </tr>\n",
       "    <tr>\n",
       "      <th>8</th>\n",
       "      <td>21</td>\n",
       "      <td>7.09</td>\n",
       "    </tr>\n",
       "    <tr>\n",
       "      <th>2</th>\n",
       "      <td>13</td>\n",
       "      <td>5.73</td>\n",
       "    </tr>\n",
       "    <tr>\n",
       "      <th>1</th>\n",
       "      <td>12</td>\n",
       "      <td>3.60</td>\n",
       "    </tr>\n",
       "    <tr>\n",
       "      <th>4</th>\n",
       "      <td>15</td>\n",
       "      <td>1.50</td>\n",
       "    </tr>\n",
       "  </tbody>\n",
       "</table>\n",
       "</div>"
      ],
      "text/plain": [
       "   Bikes  dur_hrs\n",
       "7     20    22.86\n",
       "5     17    19.20\n",
       "0     11    12.81\n",
       "9     22     8.53\n",
       "3     14     7.36\n",
       "6     18     7.31\n",
       "8     21     7.09\n",
       "2     13     5.73\n",
       "1     12     3.60\n",
       "4     15     1.50"
      ]
     },
     "execution_count": 74,
     "metadata": {},
     "output_type": "execute_result"
    }
   ],
   "source": [
    "#top 10:\n",
    "df2.head(10).sort_values(by = 'dur_hrs', ascending = False)"
   ]
  },
  {
   "cell_type": "markdown",
   "metadata": {},
   "source": [
    "#### Pyspark:"
   ]
  },
  {
   "cell_type": "code",
   "execution_count": null,
   "metadata": {},
   "outputs": [],
   "source": []
  },
  {
   "cell_type": "code",
   "execution_count": null,
   "metadata": {},
   "outputs": [],
   "source": []
  },
  {
   "cell_type": "markdown",
   "metadata": {},
   "source": [
    "#### Display the average time spent riding for each gender per age group:"
   ]
  },
  {
   "cell_type": "markdown",
   "metadata": {},
   "source": [
    "#### Pandas:"
   ]
  },
  {
   "cell_type": "code",
   "execution_count": 79,
   "metadata": {},
   "outputs": [
    {
     "data": {
      "text/html": [
       "<div>\n",
       "<style scoped>\n",
       "    .dataframe tbody tr th:only-of-type {\n",
       "        vertical-align: middle;\n",
       "    }\n",
       "\n",
       "    .dataframe tbody tr th {\n",
       "        vertical-align: top;\n",
       "    }\n",
       "\n",
       "    .dataframe thead th {\n",
       "        text-align: right;\n",
       "    }\n",
       "</style>\n",
       "<table border=\"1\" class=\"dataframe\">\n",
       "  <thead>\n",
       "    <tr style=\"text-align: right;\">\n",
       "      <th>member_gender</th>\n",
       "      <th>Female</th>\n",
       "      <th>Male</th>\n",
       "      <th>Other</th>\n",
       "    </tr>\n",
       "    <tr>\n",
       "      <th>age_groups</th>\n",
       "      <th></th>\n",
       "      <th></th>\n",
       "      <th></th>\n",
       "    </tr>\n",
       "  </thead>\n",
       "  <tbody>\n",
       "    <tr>\n",
       "      <th>young_adult</th>\n",
       "      <td>17.495940</td>\n",
       "      <td>12.032403</td>\n",
       "      <td>12.984340</td>\n",
       "    </tr>\n",
       "    <tr>\n",
       "      <th>adult</th>\n",
       "      <td>13.864426</td>\n",
       "      <td>11.157213</td>\n",
       "      <td>15.581798</td>\n",
       "    </tr>\n",
       "    <tr>\n",
       "      <th>middle_age</th>\n",
       "      <td>14.685812</td>\n",
       "      <td>12.041581</td>\n",
       "      <td>17.669430</td>\n",
       "    </tr>\n",
       "    <tr>\n",
       "      <th>mature_adult</th>\n",
       "      <td>15.978245</td>\n",
       "      <td>12.239596</td>\n",
       "      <td>17.522634</td>\n",
       "    </tr>\n",
       "  </tbody>\n",
       "</table>\n",
       "</div>"
      ],
      "text/plain": [
       "member_gender     Female       Male      Other\n",
       "age_groups                                    \n",
       "young_adult    17.495940  12.032403  12.984340\n",
       "adult          13.864426  11.157213  15.581798\n",
       "middle_age     14.685812  12.041581  17.669430\n",
       "mature_adult   15.978245  12.239596  17.522634"
      ]
     },
     "execution_count": 79,
     "metadata": {},
     "output_type": "execute_result"
    }
   ],
   "source": [
    "pd.pivot_table(df, values='dur_min', index=['age_groups'], columns=['member_gender'], aggfunc=np.mean)\n",
    "#np == numpy which is a numerical python library"
   ]
  },
  {
   "cell_type": "markdown",
   "metadata": {},
   "source": [
    "#### Pyspark:"
   ]
  },
  {
   "cell_type": "code",
   "execution_count": null,
   "metadata": {},
   "outputs": [],
   "source": []
  },
  {
   "cell_type": "markdown",
   "metadata": {},
   "source": [
    "### Filter:\n",
    "\n",
    "#### The total number of times each age group went for a ride when users are a subscriber:"
   ]
  },
  {
   "cell_type": "markdown",
   "metadata": {},
   "source": [
    "#### Pandas:"
   ]
  },
  {
   "cell_type": "code",
   "execution_count": 68,
   "metadata": {},
   "outputs": [
    {
     "data": {
      "text/plain": [
       "age_groups\n",
       "young_adult      28564\n",
       "adult           157738\n",
       "middle_age       69390\n",
       "mature_adult      7805\n",
       "Name: bike_id, dtype: int64"
      ]
     },
     "execution_count": 68,
     "metadata": {},
     "output_type": "execute_result"
    }
   ],
   "source": [
    "df[df.user_type == 'Subscriber'].groupby('age_groups')['bike_id'].count()"
   ]
  },
  {
   "cell_type": "markdown",
   "metadata": {},
   "source": [
    "#### Pyspark:\n",
    "\n",
    "[Pyspark filter](https://www.datasciencemadesimple.com/subset-or-filter-data-with-multiple-conditions-in-pyspark/)"
   ]
  },
  {
   "cell_type": "code",
   "execution_count": null,
   "metadata": {},
   "outputs": [],
   "source": []
  },
  {
   "cell_type": "markdown",
   "metadata": {},
   "source": [
    "#### Display the max, min and total duration in minutes for each weekday:"
   ]
  },
  {
   "cell_type": "markdown",
   "metadata": {},
   "source": [
    "#### Pandas:"
   ]
  },
  {
   "cell_type": "code",
   "execution_count": 76,
   "metadata": {},
   "outputs": [
    {
     "data": {
      "text/html": [
       "<div>\n",
       "<style scoped>\n",
       "    .dataframe tbody tr th:only-of-type {\n",
       "        vertical-align: middle;\n",
       "    }\n",
       "\n",
       "    .dataframe tbody tr th {\n",
       "        vertical-align: top;\n",
       "    }\n",
       "\n",
       "    .dataframe thead th {\n",
       "        text-align: right;\n",
       "    }\n",
       "</style>\n",
       "<table border=\"1\" class=\"dataframe\">\n",
       "  <thead>\n",
       "    <tr style=\"text-align: right;\">\n",
       "      <th></th>\n",
       "      <th>max_duration</th>\n",
       "      <th>min_duration</th>\n",
       "      <th>total_duration</th>\n",
       "    </tr>\n",
       "    <tr>\n",
       "      <th>weekday</th>\n",
       "      <th></th>\n",
       "      <th></th>\n",
       "      <th></th>\n",
       "    </tr>\n",
       "  </thead>\n",
       "  <tbody>\n",
       "    <tr>\n",
       "      <th>Friday</th>\n",
       "      <td>1413.27</td>\n",
       "      <td>1.02</td>\n",
       "      <td>405035.49</td>\n",
       "    </tr>\n",
       "    <tr>\n",
       "      <th>Monday</th>\n",
       "      <td>1350.50</td>\n",
       "      <td>1.02</td>\n",
       "      <td>347203.32</td>\n",
       "    </tr>\n",
       "    <tr>\n",
       "      <th>Saturday</th>\n",
       "      <td>1274.08</td>\n",
       "      <td>1.03</td>\n",
       "      <td>256351.39</td>\n",
       "    </tr>\n",
       "    <tr>\n",
       "      <th>Sunday</th>\n",
       "      <td>1221.02</td>\n",
       "      <td>1.02</td>\n",
       "      <td>185325.91</td>\n",
       "    </tr>\n",
       "    <tr>\n",
       "      <th>Thursday</th>\n",
       "      <td>1415.47</td>\n",
       "      <td>1.02</td>\n",
       "      <td>408882.09</td>\n",
       "    </tr>\n",
       "    <tr>\n",
       "      <th>Tuesday</th>\n",
       "      <td>1328.67</td>\n",
       "      <td>1.02</td>\n",
       "      <td>428864.58</td>\n",
       "    </tr>\n",
       "    <tr>\n",
       "      <th>Wednesday</th>\n",
       "      <td>1403.22</td>\n",
       "      <td>1.02</td>\n",
       "      <td>434234.23</td>\n",
       "    </tr>\n",
       "  </tbody>\n",
       "</table>\n",
       "</div>"
      ],
      "text/plain": [
       "           max_duration  min_duration  total_duration\n",
       "weekday                                              \n",
       "Friday          1413.27          1.02       405035.49\n",
       "Monday          1350.50          1.02       347203.32\n",
       "Saturday        1274.08          1.03       256351.39\n",
       "Sunday          1221.02          1.02       185325.91\n",
       "Thursday        1415.47          1.02       408882.09\n",
       "Tuesday         1328.67          1.02       428864.58\n",
       "Wednesday       1403.22          1.02       434234.23"
      ]
     },
     "execution_count": 76,
     "metadata": {},
     "output_type": "execute_result"
    }
   ],
   "source": [
    "#filter and group:\n",
    "df[df['member_gender'] == 'Male'].groupby('weekday').agg(\n",
    "    # Get max of the duration column for each group\n",
    "    max_duration=('dur_min', max),\n",
    "    # Get min of the duration column for each group\n",
    "    min_duration=('dur_min', min),\n",
    "    # Get sum of the duration column for each group\n",
    "    total_duration=('dur_min', sum))"
   ]
  },
  {
   "cell_type": "markdown",
   "metadata": {},
   "source": [
    "#### Pyspark:"
   ]
  },
  {
   "cell_type": "code",
   "execution_count": null,
   "metadata": {},
   "outputs": [],
   "source": []
  },
  {
   "cell_type": "markdown",
   "metadata": {},
   "source": [
    "## Challenge with Hockey Games Data:\n",
    "### Steps:\n",
    "\n",
    "- Load data\n",
    "\n",
    "- There are many columns, only keep:\n",
    "\n",
    "    \"game_id\", \n",
    "    \n",
    "    'teamName,\n",
    "    \n",
    "    'BothTeamsList',\n",
    "    \n",
    "    \"AwayTeamName\",\n",
    "    \n",
    "    \"HomeTeamName\",\n",
    "    \n",
    "    'away_goals',\n",
    "    \n",
    "    'home_goals',\n",
    "    \n",
    "    \"date_time_GMT\"\n",
    "    \n",
    "    \n",
    "- Remove whitespaces from values in df. \n",
    "\n",
    "\n",
    "#### Adding and Modifying columns:\n",
    "1) Create a new column based on criteria and conditions of existing columns:\n",
    "\n",
    "- create a 'winner' column based on 'home_goals' and 'away_goals'. The winner column should include the team name that won.\n",
    "\n",
    "   ***Tips:***\n",
    "    - use ```when()``` statement and conditional operators(e.g, ```<``` ```>```)\n",
    "        \n",
    "        \n",
    "**A more chanllenging approach to create winner col:**\n",
    "    \n",
    "  - Try creating the new winner column with a user defined function(UDF), an [array](https://careerkarma.com/blog/python-array/) and a [lambda](https://www.analyticsvidhya.com/blog/2021/06/anonymous-or-lambda-functions-in-python-a-beginners-guide/)\n",
    "  \n",
    "    ***Tips:***\n",
    "    - create the udf: \n",
    "      udf_name = **udf**(**lambda** x: conditions  if else, StringType())\n",
    "    - apply UDF:\n",
    "      df = df.something('new_col', udf_name(something('variable', 'variable', 'variable', 'variable')))\n",
    "      \n",
    "      \n",
    "      \n",
    "      \n",
    "2) Create a new column 'game_title' using ```concat()``` and ```lit()``` OR ```concat_ws()```. The resulting values of the new column should be awayteam vs home team, for example ```Flyers VS Thrashers```\n",
    "\n",
    "\n",
    "3) Create a new column named 'Home/Away Win' that indicates whether home team or away team won a game. This column should have the values 'home_win' or 'away_win' or \"draw\". \n",
    "\n",
    "4) - trim dataframe(There are duplicate records, find the column in which there are problematic dups)\n",
    "\n",
    "\n",
    "#### GorupBy(), Filter and Aggregations:\n",
    "\n",
    "1) How many times did an away team win a game?\n",
    "\n",
    "\n",
    "2) how many games were played in total?\n",
    "\n",
    "\n",
    "3) How many times total did the panthers win a game?\n",
    "\n",
    "\n",
    "4) How many time in total did two teams play against each other?\n",
    "\n",
    "\n",
    "5) Which venue hosted the most and least number of games?\n",
    "\n",
    "6) Display how many times each team has a home win, an away win, and total games played in a single table. Are teams more likely to win games if they play away or home games?\n",
    "\n",
    "7) Create a new dataset that holds \"game_id\", 'team_name as columns and create a new column that holds the total number of times each team has won a game."
   ]
  },
  {
   "cell_type": "code",
   "execution_count": null,
   "metadata": {},
   "outputs": [],
   "source": []
  },
  {
   "cell_type": "code",
   "execution_count": 166,
   "metadata": {},
   "outputs": [],
   "source": [
    "#download data with pandas from github: TURN OFF VPN TO RUN THIS CODE\n",
    "url = 'https://raw.githubusercontent.com/Khrystyne-T/Test_Projects/main/TEST%20projects/hockey_data_prepared.csv'\n",
    "dfG = pd.read_csv(url)"
   ]
  },
  {
   "cell_type": "code",
   "execution_count": 167,
   "metadata": {},
   "outputs": [
    {
     "data": {
      "text/html": [
       "<div>\n",
       "<style scoped>\n",
       "    .dataframe tbody tr th:only-of-type {\n",
       "        vertical-align: middle;\n",
       "    }\n",
       "\n",
       "    .dataframe tbody tr th {\n",
       "        vertical-align: top;\n",
       "    }\n",
       "\n",
       "    .dataframe thead th {\n",
       "        text-align: right;\n",
       "    }\n",
       "</style>\n",
       "<table border=\"1\" class=\"dataframe\">\n",
       "  <thead>\n",
       "    <tr style=\"text-align: right;\">\n",
       "      <th></th>\n",
       "      <th>game_id</th>\n",
       "      <th>season</th>\n",
       "      <th>type</th>\n",
       "      <th>date_time_GMT</th>\n",
       "      <th>away_team_id</th>\n",
       "      <th>home_team_id</th>\n",
       "      <th>away_goals</th>\n",
       "      <th>home_goals</th>\n",
       "      <th>home_rink_side_start</th>\n",
       "      <th>venue</th>\n",
       "      <th>...</th>\n",
       "      <th>blocked</th>\n",
       "      <th>startRinkSide</th>\n",
       "      <th>franchiseId</th>\n",
       "      <th>shortName</th>\n",
       "      <th>teamName</th>\n",
       "      <th>abbreviation</th>\n",
       "      <th>link</th>\n",
       "      <th>BothTeamsList</th>\n",
       "      <th>HomeTeamName</th>\n",
       "      <th>AwayTeamName</th>\n",
       "    </tr>\n",
       "  </thead>\n",
       "  <tbody>\n",
       "    <tr>\n",
       "      <th>0</th>\n",
       "      <td>2016020045</td>\n",
       "      <td>20162017</td>\n",
       "      <td>R</td>\n",
       "      <td>2016-10-19T00:30:00Z</td>\n",
       "      <td>4</td>\n",
       "      <td>16</td>\n",
       "      <td>4</td>\n",
       "      <td>7</td>\n",
       "      <td>right</td>\n",
       "      <td>United Center</td>\n",
       "      <td>...</td>\n",
       "      <td>11.0</td>\n",
       "      <td>left</td>\n",
       "      <td>16</td>\n",
       "      <td>Philadelphia</td>\n",
       "      <td>Flyers</td>\n",
       "      <td>PHI</td>\n",
       "      <td>/api/v1/teams/4</td>\n",
       "      <td>Blackhawks, Flyers</td>\n",
       "      <td>Blackhawks</td>\n",
       "      <td>Flyers</td>\n",
       "    </tr>\n",
       "    <tr>\n",
       "      <th>1</th>\n",
       "      <td>2016020045</td>\n",
       "      <td>20162017</td>\n",
       "      <td>R</td>\n",
       "      <td>2016-10-19T00:30:00Z</td>\n",
       "      <td>4</td>\n",
       "      <td>16</td>\n",
       "      <td>4</td>\n",
       "      <td>7</td>\n",
       "      <td>right</td>\n",
       "      <td>United Center</td>\n",
       "      <td>...</td>\n",
       "      <td>9.0</td>\n",
       "      <td>left</td>\n",
       "      <td>11</td>\n",
       "      <td>Chicago</td>\n",
       "      <td>Blackhawks</td>\n",
       "      <td>CHI</td>\n",
       "      <td>/api/v1/teams/16</td>\n",
       "      <td>Blackhawks, Flyers</td>\n",
       "      <td>Blackhawks</td>\n",
       "      <td>Flyers</td>\n",
       "    </tr>\n",
       "    <tr>\n",
       "      <th>2</th>\n",
       "      <td>2016020246</td>\n",
       "      <td>20162017</td>\n",
       "      <td>R</td>\n",
       "      <td>2016-11-18T00:00:00Z</td>\n",
       "      <td>52</td>\n",
       "      <td>4</td>\n",
       "      <td>2</td>\n",
       "      <td>5</td>\n",
       "      <td>right</td>\n",
       "      <td>Wells Fargo Center</td>\n",
       "      <td>...</td>\n",
       "      <td>20.0</td>\n",
       "      <td>left</td>\n",
       "      <td>16</td>\n",
       "      <td>Philadelphia</td>\n",
       "      <td>Flyers</td>\n",
       "      <td>PHI</td>\n",
       "      <td>/api/v1/teams/4</td>\n",
       "      <td>Jets, Flyers</td>\n",
       "      <td>Jets</td>\n",
       "      <td>Flyers</td>\n",
       "    </tr>\n",
       "    <tr>\n",
       "      <th>3</th>\n",
       "      <td>2016020246</td>\n",
       "      <td>20162017</td>\n",
       "      <td>R</td>\n",
       "      <td>2016-11-18T00:00:00Z</td>\n",
       "      <td>52</td>\n",
       "      <td>4</td>\n",
       "      <td>2</td>\n",
       "      <td>5</td>\n",
       "      <td>right</td>\n",
       "      <td>Wells Fargo Center</td>\n",
       "      <td>...</td>\n",
       "      <td>21.0</td>\n",
       "      <td>left</td>\n",
       "      <td>35</td>\n",
       "      <td>Winnipeg</td>\n",
       "      <td>Jets</td>\n",
       "      <td>WPG</td>\n",
       "      <td>/api/v1/teams/52</td>\n",
       "      <td>Jets, Flyers</td>\n",
       "      <td>Jets</td>\n",
       "      <td>Flyers</td>\n",
       "    </tr>\n",
       "    <tr>\n",
       "      <th>4</th>\n",
       "      <td>2016020986</td>\n",
       "      <td>20162017</td>\n",
       "      <td>R</td>\n",
       "      <td>2017-03-10T00:30:00Z</td>\n",
       "      <td>4</td>\n",
       "      <td>10</td>\n",
       "      <td>2</td>\n",
       "      <td>4</td>\n",
       "      <td>right</td>\n",
       "      <td>Air Canada Centre</td>\n",
       "      <td>...</td>\n",
       "      <td>14.0</td>\n",
       "      <td>left</td>\n",
       "      <td>16</td>\n",
       "      <td>Philadelphia</td>\n",
       "      <td>Flyers</td>\n",
       "      <td>PHI</td>\n",
       "      <td>/api/v1/teams/4</td>\n",
       "      <td>Maple Leafs, Flyers</td>\n",
       "      <td>Maple Leafs</td>\n",
       "      <td>Flyers</td>\n",
       "    </tr>\n",
       "  </tbody>\n",
       "</table>\n",
       "<p>5 rows × 38 columns</p>\n",
       "</div>"
      ],
      "text/plain": [
       "      game_id    season type         date_time_GMT  away_team_id  \\\n",
       "0  2016020045  20162017    R  2016-10-19T00:30:00Z             4   \n",
       "1  2016020045  20162017    R  2016-10-19T00:30:00Z             4   \n",
       "2  2016020246  20162017    R  2016-11-18T00:00:00Z            52   \n",
       "3  2016020246  20162017    R  2016-11-18T00:00:00Z            52   \n",
       "4  2016020986  20162017    R  2017-03-10T00:30:00Z             4   \n",
       "\n",
       "   home_team_id  away_goals  home_goals home_rink_side_start  \\\n",
       "0            16           4           7                right   \n",
       "1            16           4           7                right   \n",
       "2             4           2           5                right   \n",
       "3             4           2           5                right   \n",
       "4            10           2           4                right   \n",
       "\n",
       "                venue  ... blocked startRinkSide  franchiseId     shortName  \\\n",
       "0       United Center  ...    11.0          left           16  Philadelphia   \n",
       "1       United Center  ...     9.0          left           11       Chicago   \n",
       "2  Wells Fargo Center  ...    20.0          left           16  Philadelphia   \n",
       "3  Wells Fargo Center  ...    21.0          left           35      Winnipeg   \n",
       "4   Air Canada Centre  ...    14.0          left           16  Philadelphia   \n",
       "\n",
       "     teamName abbreviation              link        BothTeamsList  \\\n",
       "0      Flyers          PHI   /api/v1/teams/4   Blackhawks, Flyers   \n",
       "1  Blackhawks          CHI  /api/v1/teams/16   Blackhawks, Flyers   \n",
       "2      Flyers          PHI   /api/v1/teams/4         Jets, Flyers   \n",
       "3        Jets          WPG  /api/v1/teams/52         Jets, Flyers   \n",
       "4      Flyers          PHI   /api/v1/teams/4  Maple Leafs, Flyers   \n",
       "\n",
       "  HomeTeamName  AwayTeamName  \n",
       "0   Blackhawks        Flyers  \n",
       "1   Blackhawks        Flyers  \n",
       "2         Jets        Flyers  \n",
       "3         Jets        Flyers  \n",
       "4  Maple Leafs        Flyers  \n",
       "\n",
       "[5 rows x 38 columns]"
      ]
     },
     "execution_count": 167,
     "metadata": {},
     "output_type": "execute_result"
    }
   ],
   "source": [
    "dfG.head()"
   ]
  },
  {
   "cell_type": "code",
   "execution_count": null,
   "metadata": {},
   "outputs": [],
   "source": [
    "dfG.teamName.value_counts()"
   ]
  },
  {
   "cell_type": "markdown",
   "metadata": {},
   "source": [
    "**You don't need to download the data from the url into a pyspark df, you can convert the pd df to a pyspark df:**\n",
    "\n",
    "[pandas to pyspark](https://stackoverflow.com/questions/52943627/convert-a-pandas-dataframe-to-a-pyspark-dataframe)\n",
    "\n",
    "\n",
    "**OR:**\n",
    "\n",
    "You can save the file locally and then import it into a pyspark df:\n",
    "\n",
    "```dfG.to_csv('file_name.csv', index = False)```"
   ]
  },
  {
   "cell_type": "code",
   "execution_count": null,
   "metadata": {},
   "outputs": [],
   "source": []
  },
  {
   "cell_type": "code",
   "execution_count": null,
   "metadata": {},
   "outputs": [],
   "source": []
  },
  {
   "cell_type": "code",
   "execution_count": null,
   "metadata": {},
   "outputs": [],
   "source": []
  },
  {
   "cell_type": "code",
   "execution_count": null,
   "metadata": {},
   "outputs": [],
   "source": []
  },
  {
   "cell_type": "code",
   "execution_count": null,
   "metadata": {},
   "outputs": [],
   "source": []
  },
  {
   "cell_type": "code",
   "execution_count": null,
   "metadata": {},
   "outputs": [],
   "source": []
  },
  {
   "cell_type": "code",
   "execution_count": null,
   "metadata": {},
   "outputs": [],
   "source": []
  },
  {
   "cell_type": "code",
   "execution_count": null,
   "metadata": {},
   "outputs": [],
   "source": []
  },
  {
   "cell_type": "code",
   "execution_count": null,
   "metadata": {},
   "outputs": [],
   "source": []
  },
  {
   "cell_type": "code",
   "execution_count": null,
   "metadata": {},
   "outputs": [],
   "source": []
  },
  {
   "cell_type": "code",
   "execution_count": null,
   "metadata": {},
   "outputs": [],
   "source": []
  },
  {
   "cell_type": "code",
   "execution_count": null,
   "metadata": {},
   "outputs": [],
   "source": []
  },
  {
   "cell_type": "code",
   "execution_count": null,
   "metadata": {},
   "outputs": [],
   "source": []
  },
  {
   "cell_type": "code",
   "execution_count": null,
   "metadata": {},
   "outputs": [],
   "source": []
  },
  {
   "attachments": {
    "image.png": {
     "image/png": "[encoded data removed]"
    }
   },
   "cell_type": "markdown",
   "metadata": {},
   "source": [
    "### Challenge 2:\n",
    "\n",
    "#### Create homeTeamName col and AwayTeam name col yourself:\n",
    "\n",
    "\n",
    "1) create a new column from TeamName to include both team names in a single row for each record, you'll see that each game has two records that includes the team name for each game. (This is why there are duplicates in game_id)\n",
    "\n",
    "\n",
    "2) split records in new col created in step 2 and create two sepeare columns for awayteamname and hometeamname\n",
    "\n",
    "![image.png](attachment:image.png)\n",
    "\n",
    "\n",
    "**This is the approach I have taken to create the away team and home team columns. If you find you can use another approach to achieve the same end result, go for it.**"
   ]
  },
  {
   "cell_type": "code",
   "execution_count": 164,
   "metadata": {},
   "outputs": [],
   "source": [
    "#download unprepped file:\n",
    "\n",
    "url = 'https://raw.githubusercontent.com/Khrystyne-T/Test_Projects/main/TEST%20projects/hockey_data.csv'\n",
    "df = pd.read_csv(url)"
   ]
  },
  {
   "cell_type": "code",
   "execution_count": 165,
   "metadata": {},
   "outputs": [
    {
     "data": {
      "text/html": [
       "<div>\n",
       "<style scoped>\n",
       "    .dataframe tbody tr th:only-of-type {\n",
       "        vertical-align: middle;\n",
       "    }\n",
       "\n",
       "    .dataframe tbody tr th {\n",
       "        vertical-align: top;\n",
       "    }\n",
       "\n",
       "    .dataframe thead th {\n",
       "        text-align: right;\n",
       "    }\n",
       "</style>\n",
       "<table border=\"1\" class=\"dataframe\">\n",
       "  <thead>\n",
       "    <tr style=\"text-align: right;\">\n",
       "      <th></th>\n",
       "      <th>game_id</th>\n",
       "      <th>season</th>\n",
       "      <th>type</th>\n",
       "      <th>date_time_GMT</th>\n",
       "      <th>away_team_id</th>\n",
       "      <th>home_team_id</th>\n",
       "      <th>away_goals</th>\n",
       "      <th>home_goals</th>\n",
       "      <th>home_rink_side_start</th>\n",
       "      <th>venue</th>\n",
       "      <th>...</th>\n",
       "      <th>faceOffWinPercentage</th>\n",
       "      <th>giveaways</th>\n",
       "      <th>takeaways</th>\n",
       "      <th>blocked</th>\n",
       "      <th>startRinkSide</th>\n",
       "      <th>franchiseId</th>\n",
       "      <th>shortName</th>\n",
       "      <th>teamName</th>\n",
       "      <th>abbreviation</th>\n",
       "      <th>link</th>\n",
       "    </tr>\n",
       "  </thead>\n",
       "  <tbody>\n",
       "    <tr>\n",
       "      <th>0</th>\n",
       "      <td>2016020045</td>\n",
       "      <td>20162017</td>\n",
       "      <td>R</td>\n",
       "      <td>2016-10-19T00:30:00Z</td>\n",
       "      <td>4</td>\n",
       "      <td>16</td>\n",
       "      <td>4</td>\n",
       "      <td>7</td>\n",
       "      <td>right</td>\n",
       "      <td>United Center</td>\n",
       "      <td>...</td>\n",
       "      <td>50.9</td>\n",
       "      <td>12.0</td>\n",
       "      <td>9.0</td>\n",
       "      <td>11.0</td>\n",
       "      <td>left</td>\n",
       "      <td>16</td>\n",
       "      <td>Philadelphia</td>\n",
       "      <td>Flyers</td>\n",
       "      <td>PHI</td>\n",
       "      <td>/api/v1/teams/4</td>\n",
       "    </tr>\n",
       "    <tr>\n",
       "      <th>1</th>\n",
       "      <td>2016020045</td>\n",
       "      <td>20162017</td>\n",
       "      <td>R</td>\n",
       "      <td>2016-10-19T00:30:00Z</td>\n",
       "      <td>4</td>\n",
       "      <td>16</td>\n",
       "      <td>4</td>\n",
       "      <td>7</td>\n",
       "      <td>right</td>\n",
       "      <td>United Center</td>\n",
       "      <td>...</td>\n",
       "      <td>49.1</td>\n",
       "      <td>16.0</td>\n",
       "      <td>8.0</td>\n",
       "      <td>9.0</td>\n",
       "      <td>left</td>\n",
       "      <td>11</td>\n",
       "      <td>Chicago</td>\n",
       "      <td>Blackhawks</td>\n",
       "      <td>CHI</td>\n",
       "      <td>/api/v1/teams/16</td>\n",
       "    </tr>\n",
       "    <tr>\n",
       "      <th>2</th>\n",
       "      <td>2016020246</td>\n",
       "      <td>20162017</td>\n",
       "      <td>R</td>\n",
       "      <td>2016-11-18T00:00:00Z</td>\n",
       "      <td>52</td>\n",
       "      <td>4</td>\n",
       "      <td>2</td>\n",
       "      <td>5</td>\n",
       "      <td>right</td>\n",
       "      <td>Wells Fargo Center</td>\n",
       "      <td>...</td>\n",
       "      <td>55.6</td>\n",
       "      <td>11.0</td>\n",
       "      <td>10.0</td>\n",
       "      <td>20.0</td>\n",
       "      <td>left</td>\n",
       "      <td>16</td>\n",
       "      <td>Philadelphia</td>\n",
       "      <td>Flyers</td>\n",
       "      <td>PHI</td>\n",
       "      <td>/api/v1/teams/4</td>\n",
       "    </tr>\n",
       "    <tr>\n",
       "      <th>3</th>\n",
       "      <td>2016020246</td>\n",
       "      <td>20162017</td>\n",
       "      <td>R</td>\n",
       "      <td>2016-11-18T00:00:00Z</td>\n",
       "      <td>52</td>\n",
       "      <td>4</td>\n",
       "      <td>2</td>\n",
       "      <td>5</td>\n",
       "      <td>right</td>\n",
       "      <td>Wells Fargo Center</td>\n",
       "      <td>...</td>\n",
       "      <td>44.4</td>\n",
       "      <td>6.0</td>\n",
       "      <td>11.0</td>\n",
       "      <td>21.0</td>\n",
       "      <td>left</td>\n",
       "      <td>35</td>\n",
       "      <td>Winnipeg</td>\n",
       "      <td>Jets</td>\n",
       "      <td>WPG</td>\n",
       "      <td>/api/v1/teams/52</td>\n",
       "    </tr>\n",
       "    <tr>\n",
       "      <th>4</th>\n",
       "      <td>2016020986</td>\n",
       "      <td>20162017</td>\n",
       "      <td>R</td>\n",
       "      <td>2017-03-10T00:30:00Z</td>\n",
       "      <td>4</td>\n",
       "      <td>10</td>\n",
       "      <td>2</td>\n",
       "      <td>4</td>\n",
       "      <td>right</td>\n",
       "      <td>Air Canada Centre</td>\n",
       "      <td>...</td>\n",
       "      <td>57.6</td>\n",
       "      <td>12.0</td>\n",
       "      <td>5.0</td>\n",
       "      <td>14.0</td>\n",
       "      <td>left</td>\n",
       "      <td>16</td>\n",
       "      <td>Philadelphia</td>\n",
       "      <td>Flyers</td>\n",
       "      <td>PHI</td>\n",
       "      <td>/api/v1/teams/4</td>\n",
       "    </tr>\n",
       "  </tbody>\n",
       "</table>\n",
       "<p>5 rows × 35 columns</p>\n",
       "</div>"
      ],
      "text/plain": [
       "      game_id    season type         date_time_GMT  away_team_id  \\\n",
       "0  2016020045  20162017    R  2016-10-19T00:30:00Z             4   \n",
       "1  2016020045  20162017    R  2016-10-19T00:30:00Z             4   \n",
       "2  2016020246  20162017    R  2016-11-18T00:00:00Z            52   \n",
       "3  2016020246  20162017    R  2016-11-18T00:00:00Z            52   \n",
       "4  2016020986  20162017    R  2017-03-10T00:30:00Z             4   \n",
       "\n",
       "   home_team_id  away_goals  home_goals home_rink_side_start  \\\n",
       "0            16           4           7                right   \n",
       "1            16           4           7                right   \n",
       "2             4           2           5                right   \n",
       "3             4           2           5                right   \n",
       "4            10           2           4                right   \n",
       "\n",
       "                venue  ... faceOffWinPercentage giveaways  takeaways blocked  \\\n",
       "0       United Center  ...                 50.9      12.0        9.0    11.0   \n",
       "1       United Center  ...                 49.1      16.0        8.0     9.0   \n",
       "2  Wells Fargo Center  ...                 55.6      11.0       10.0    20.0   \n",
       "3  Wells Fargo Center  ...                 44.4       6.0       11.0    21.0   \n",
       "4   Air Canada Centre  ...                 57.6      12.0        5.0    14.0   \n",
       "\n",
       "   startRinkSide franchiseId     shortName    teamName abbreviation  \\\n",
       "0           left          16  Philadelphia      Flyers          PHI   \n",
       "1           left          11       Chicago  Blackhawks          CHI   \n",
       "2           left          16  Philadelphia      Flyers          PHI   \n",
       "3           left          35      Winnipeg        Jets          WPG   \n",
       "4           left          16  Philadelphia      Flyers          PHI   \n",
       "\n",
       "               link  \n",
       "0   /api/v1/teams/4  \n",
       "1  /api/v1/teams/16  \n",
       "2   /api/v1/teams/4  \n",
       "3  /api/v1/teams/52  \n",
       "4   /api/v1/teams/4  \n",
       "\n",
       "[5 rows x 35 columns]"
      ]
     },
     "execution_count": 165,
     "metadata": {},
     "output_type": "execute_result"
    }
   ],
   "source": [
    "df.head()"
   ]
  },
  {
   "cell_type": "code",
   "execution_count": null,
   "metadata": {},
   "outputs": [],
   "source": []
  },
  {
   "cell_type": "code",
   "execution_count": null,
   "metadata": {},
   "outputs": [],
   "source": []
  },
  {
   "cell_type": "code",
   "execution_count": null,
   "metadata": {},
   "outputs": [],
   "source": []
  },
  {
   "cell_type": "code",
   "execution_count": null,
   "metadata": {},
   "outputs": [],
   "source": []
  },
  {
   "cell_type": "code",
   "execution_count": null,
   "metadata": {},
   "outputs": [],
   "source": []
  },
  {
   "cell_type": "code",
   "execution_count": null,
   "metadata": {},
   "outputs": [],
   "source": []
  },
  {
   "cell_type": "code",
   "execution_count": null,
   "metadata": {},
   "outputs": [],
   "source": []
  },
  {
   "cell_type": "code",
   "execution_count": null,
   "metadata": {},
   "outputs": [],
   "source": []
  },
  {
   "cell_type": "code",
   "execution_count": null,
   "metadata": {},
   "outputs": [],
   "source": []
  },
  {
   "cell_type": "code",
   "execution_count": null,
   "metadata": {},
   "outputs": [],
   "source": []
  },
  {
   "cell_type": "code",
   "execution_count": null,
   "metadata": {},
   "outputs": [],
   "source": []
  },
  {
   "cell_type": "code",
   "execution_count": null,
   "metadata": {},
   "outputs": [],
   "source": []
  },
  {
   "cell_type": "code",
   "execution_count": null,
   "metadata": {},
   "outputs": [],
   "source": []
  },
  {
   "cell_type": "code",
   "execution_count": null,
   "metadata": {},
   "outputs": [],
   "source": []
  },
  {
   "cell_type": "code",
   "execution_count": null,
   "metadata": {},
   "outputs": [],
   "source": []
  },
  {
   "cell_type": "code",
   "execution_count": null,
   "metadata": {},
   "outputs": [],
   "source": []
  },
  {
   "cell_type": "code",
   "execution_count": null,
   "metadata": {},
   "outputs": [],
   "source": []
  },
  {
   "cell_type": "code",
   "execution_count": null,
   "metadata": {},
   "outputs": [],
   "source": []
  }
 ],
 "metadata": {
  "kernelspec": {
   "display_name": "Python 3",
   "language": "python",
   "name": "python3"
  },
  "language_info": {
   "codemirror_mode": {
    "name": "ipython",
    "version": 3
   },
   "file_extension": ".py",
   "mimetype": "text/x-python",
   "name": "python",
   "nbconvert_exporter": "python",
   "pygments_lexer": "ipython3",
   "version": "3.8.5"
  }
 },
 "nbformat": 4,
 "nbformat_minor": 4
}
