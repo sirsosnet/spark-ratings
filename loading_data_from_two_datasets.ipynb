{
 "cells": [
  {
   "cell_type": "code",
   "execution_count": 1,
   "metadata": {},
   "outputs": [],
   "source": [
    "from pyspark.sql import SparkSession"
   ]
  },
  {
   "cell_type": "code",
   "execution_count": 2,
   "metadata": {},
   "outputs": [],
   "source": [
    "spark = SparkSession.builder.appName(\"RatingsJoin\").getOrCreate()"
   ]
  },
  {
   "cell_type": "code",
   "execution_count": 3,
   "metadata": {},
   "outputs": [],
   "source": [
    "usernames = spark.read.csv(\n",
    "    'random_user_id.csv',\n",
    "    sep=\",\",\n",
    "    header=True,\n",
    "    quote='\"',\n",
    "    encoding=\"UTF-8\",\n",
    "    inferSchema=True,)"
   ]
  },
  {
   "cell_type": "code",
   "execution_count": 4,
   "metadata": {},
   "outputs": [],
   "source": [
    "ratings = spark.read.csv(\n",
    "    'DatafinitiElectronicsProductData02.csv',\n",
    "    sep=\",\",\n",
    "    header=True,\n",
    "    quote='\"',\n",
    "    encoding=\"UTF-8\",\n",
    "    inferSchema=True,)"
   ]
  },
  {
   "cell_type": "code",
   "execution_count": 5,
   "metadata": {},
   "outputs": [
    {
     "name": "stdout",
     "output_type": "stream",
     "text": [
      "root\n",
      " |-- gender: string (nullable = true)\n",
      " |-- name.title: string (nullable = true)\n",
      " |-- name.first: string (nullable = true)\n",
      " |-- name.last: string (nullable = true)\n",
      " |-- location.street.number: integer (nullable = true)\n",
      " |-- location.street.name: string (nullable = true)\n",
      " |-- location.city: string (nullable = true)\n",
      " |-- location.state: string (nullable = true)\n",
      " |-- location.country: string (nullable = true)\n",
      " |-- location.postcode: string (nullable = true)\n",
      " |-- location.coordinates.latitude: double (nullable = true)\n",
      " |-- location.coordinates.longitude: double (nullable = true)\n",
      " |-- location.timezone.offset: string (nullable = true)\n",
      " |-- location.timezone.description: string (nullable = true)\n",
      " |-- email: string (nullable = true)\n",
      " |-- login.uuid: string (nullable = true)\n",
      " |-- login.username: string (nullable = true)\n",
      " |-- login.password: string (nullable = true)\n",
      " |-- login.salt: string (nullable = true)\n",
      " |-- login.md5: string (nullable = true)\n",
      " |-- login.sha1: string (nullable = true)\n",
      " |-- login.sha256: string (nullable = true)\n",
      " |-- dob.date: timestamp (nullable = true)\n",
      " |-- dob.age: integer (nullable = true)\n",
      " |-- registered.date: timestamp (nullable = true)\n",
      " |-- registered.age: integer (nullable = true)\n",
      " |-- phone: string (nullable = true)\n",
      " |-- cell: string (nullable = true)\n",
      " |-- id.name: string (nullable = true)\n",
      " |-- id.value: string (nullable = true)\n",
      " |-- picture.large: string (nullable = true)\n",
      " |-- picture.medium: string (nullable = true)\n",
      " |-- picture.thumbnail: string (nullable = true)\n",
      " |-- nat: string (nullable = true)\n",
      "\n"
     ]
    }
   ],
   "source": [
    "usernames.printSchema()"
   ]
  },
  {
   "cell_type": "code",
   "execution_count": 6,
   "metadata": {},
   "outputs": [],
   "source": [
    "usernames = usernames.select(\"`name.title`\",\"`name.first`\",\"`login.username`\",\"`registered.date`\")"
   ]
  },
  {
   "cell_type": "code",
   "execution_count": 7,
   "metadata": {},
   "outputs": [
    {
     "name": "stdout",
     "output_type": "stream",
     "text": [
      "root\n",
      " |-- id: string (nullable = true)\n",
      " |-- asins: string (nullable = true)\n",
      " |-- brand: string (nullable = true)\n",
      " |-- categories: string (nullable = true)\n",
      " |-- colors: string (nullable = true)\n",
      " |-- dateAdded: timestamp (nullable = true)\n",
      " |-- dateUpdated: timestamp (nullable = true)\n",
      " |-- dimension: string (nullable = true)\n",
      " |-- ean: decimal(20,0) (nullable = true)\n",
      " |-- imageURLs: string (nullable = true)\n",
      " |-- keys: string (nullable = true)\n",
      " |-- manufacturer: string (nullable = true)\n",
      " |-- manufacturerNumber: string (nullable = true)\n",
      " |-- name: string (nullable = true)\n",
      " |-- primaryCategories: string (nullable = true)\n",
      " |-- reviews_date: timestamp (nullable = true)\n",
      " |-- reviews_dateSeen: string (nullable = true)\n",
      " |-- reviews_doRecommend: boolean (nullable = true)\n",
      " |-- reviews_numHelpful: integer (nullable = true)\n",
      " |-- reviews_rating: integer (nullable = true)\n",
      " |-- reviews_sourceURLs: string (nullable = true)\n",
      " |-- reviews_text: string (nullable = true)\n",
      " |-- reviews_title: string (nullable = true)\n",
      " |-- reviews_username: string (nullable = true)\n",
      " |-- sourceURLs: string (nullable = true)\n",
      " |-- upc: string (nullable = true)\n",
      " |-- weight: string (nullable = true)\n",
      " |-- _c27: string (nullable = true)\n",
      " |-- _c28: string (nullable = true)\n",
      " |-- _c29: string (nullable = true)\n",
      " |-- _c30: string (nullable = true)\n",
      " |-- _c31: string (nullable = true)\n",
      "\n"
     ]
    }
   ],
   "source": [
    "ratings.printSchema()"
   ]
  },
  {
   "cell_type": "code",
   "execution_count": 8,
   "metadata": {},
   "outputs": [],
   "source": [
    "ratings = ratings.select(\"id\",\"manufacturer\",\"reviews_title\",\"reviews_username\",\"reviews_rating\",\"reviews_username\")"
   ]
  },
  {
   "cell_type": "code",
   "execution_count": 9,
   "metadata": {},
   "outputs": [],
   "source": [
    "opinions = ratings.join(usernames, ratings[\"reviews_username\"] == usernames[\"`login.username`\"])"
   ]
  },
  {
   "cell_type": "code",
   "execution_count": 12,
   "metadata": {},
   "outputs": [
    {
     "name": "stdout",
     "output_type": "stream",
     "text": [
      "+--------------------+------------+--------------------+--------------------+--------------+--------------------+------------+----------+--------------------+\n",
      "|                  id|manufacturer|       reviews_title|    reviews_username|reviews_rating|    reviews_username|  name.title|name.first|     registered.date|\n",
      "+--------------------+------------+--------------------+--------------------+--------------+--------------------+------------+----------+--------------------+\n",
      "|AVpf3txeLJeJML43FN82|   Microsoft|Love the fingerpr...|     angryladybug494|             5|     angryladybug494|          Ms|   Addison|2007-06-01 12:31:...|\n",
      "|AVpf3txeLJeJML43FN82|   Microsoft|                Nice|       greenzebra746|             4|       greenzebra746|          Mr|  Zinedine|2016-08-30 08:41:...|\n",
      "|AVpf3txeLJeJML43FN82|   Microsoft|                 New|         redzebra452|             4|         redzebra452|          Mr|     Blake|2009-09-16 05:29:...|\n",
      "|AVpf3txeLJeJML43FN82|   Microsoft|       Nice keyboard|         lazyfish148|             5|         lazyfish148|          Mr|    Sergio|2003-05-26 23:26:...|\n",
      "|AVpf3txeLJeJML43FN82|   Microsoft|    Nice improvement|       bluerabbit780|             5|       bluerabbit780|          Mr|   Jeffery|2002-09-09 05:10:...|\n",
      "|AVpf3txeLJeJML43FN82|   Microsoft|     big improvement|   ticklishrabbit790|             5|   ticklishrabbit790|Mademoiselle|    Janina|2005-01-31 23:15:...|\n",
      "|AVpf3txeLJeJML43FN82|   Microsoft|  Perfect type cover|      purpletiger694|             4|      purpletiger694|          Mr|     Pedro|2013-05-24 09:00:...|\n",
      "|AVpf3txeLJeJML43FN82|   Microsoft|       Good Keyboard|      goldenkoala530|             3|      goldenkoala530|          Mr|    Pierre|2006-09-01 10:07:...|\n",
      "|AVpf3txeLJeJML43FN82|   Microsoft|    nice improvement|         sadkoala635|             4|         sadkoala635|          Mr|   Vincent|2010-01-02 00:54:...|\n",
      "|AVpf3txeLJeJML43FN82|   Microsoft|Fingerprint Scann...|         tinybear417|             5|         tinybear417|         Mrs|     Piper|2008-02-27 04:40:...|\n",
      "|AVpf3txeLJeJML43FN82|   Microsoft|           Must have|      ticklishdog889|             5|      ticklishdog889|          Ms|    Tracey|2009-02-18 07:48:...|\n",
      "|AVpf3txeLJeJML43FN82|   Microsoft| not worth the price|     greenmeercat910|             4|     greenmeercat910|          Ms|     Loeki|2010-06-28 17:26:...|\n",
      "|AVpf3txeLJeJML43FN82|   Microsoft|      Great keyboard|       silverbird466|             4|       silverbird466|         Mrs|      Aada|2005-05-26 04:13:...|\n",
      "|AVpf3txeLJeJML43FN82|   Microsoft|Keyboard very smo...|        yellowdog897|             4|        yellowdog897|          Mr|    Eliott|2010-06-18 11:49:...|\n",
      "|AVpf3txeLJeJML43FN82|   Microsoft|              Pricey|    beautifulduck172|             4|    beautifulduck172|          Mr|    Anania|2010-07-14 18:26:...|\n",
      "|AVpf3txeLJeJML43FN82|   Microsoft|              a must|beautifulelephant980|             5|beautifulelephant980|          Mr|    Steven|2004-11-15 12:36:...|\n",
      "|AVpf3txeLJeJML43FN82|   Microsoft|     Great Keyboard!|          redbear894|             5|          redbear894|        Miss|    Susana|2014-07-08 08:09:...|\n",
      "|AVpf3txeLJeJML43FN82|   Microsoft|Best type cover k...|        bluegoose565|             5|        bluegoose565|          Mr|      Nooa|2003-07-12 17:08:...|\n",
      "|AVpf3txeLJeJML43FN82|   Microsoft|      Solid keyboard|           sadcat930|             4|           sadcat930|         Mrs|     Tilde|2012-04-19 06:54:...|\n",
      "|AVpf3txeLJeJML43FN82|   Microsoft|This is a start t...|       smallkoala740|             5|       smallkoala740|          Ms|    Amelia|2016-04-29 06:12:...|\n",
      "+--------------------+------------+--------------------+--------------------+--------------+--------------------+------------+----------+--------------------+\n",
      "only showing top 20 rows\n",
      "\n"
     ]
    }
   ],
   "source": [
    "opinions.select(\"id\",\"manufacturer\",\"reviews_title\",\"reviews_username\",\"reviews_rating\",\"reviews_username\",\"`name.title`\",\"`name.first`\", \"`registered.date`\").show()"
   ]
  },
  {
   "cell_type": "code",
   "execution_count": 12,
   "metadata": {},
   "outputs": [
    {
     "name": "stdout",
     "output_type": "stream",
     "text": [
      "+--------------------+------------+--------------------+--------------------+--------------+--------------------+------------+----------+--------------------+\n",
      "|                  id|manufacturer|       reviews_title|    reviews_username|reviews_rating|    reviews_username|  name.title|name.first|      login.username|\n",
      "+--------------------+------------+--------------------+--------------------+--------------+--------------------+------------+----------+--------------------+\n",
      "|AVpf3txeLJeJML43FN82|   Microsoft|Love the fingerpr...|     angryladybug494|             5|     angryladybug494|          Ms|   Addison|     angryladybug494|\n",
      "|AVpf3txeLJeJML43FN82|   Microsoft|                Nice|       greenzebra746|             4|       greenzebra746|          Mr|  Zinedine|       greenzebra746|\n",
      "|AVpf3txeLJeJML43FN82|   Microsoft|                 New|         redzebra452|             4|         redzebra452|          Mr|     Blake|         redzebra452|\n",
      "|AVpf3txeLJeJML43FN82|   Microsoft|       Nice keyboard|         lazyfish148|             5|         lazyfish148|          Mr|    Sergio|         lazyfish148|\n",
      "|AVpf3txeLJeJML43FN82|   Microsoft|    Nice improvement|       bluerabbit780|             5|       bluerabbit780|          Mr|   Jeffery|       bluerabbit780|\n",
      "|AVpf3txeLJeJML43FN82|   Microsoft|     big improvement|   ticklishrabbit790|             5|   ticklishrabbit790|Mademoiselle|    Janina|   ticklishrabbit790|\n",
      "|AVpf3txeLJeJML43FN82|   Microsoft|  Perfect type cover|      purpletiger694|             4|      purpletiger694|          Mr|     Pedro|      purpletiger694|\n",
      "|AVpf3txeLJeJML43FN82|   Microsoft|       Good Keyboard|      goldenkoala530|             3|      goldenkoala530|          Mr|    Pierre|      goldenkoala530|\n",
      "|AVpf3txeLJeJML43FN82|   Microsoft|    nice improvement|         sadkoala635|             4|         sadkoala635|          Mr|   Vincent|         sadkoala635|\n",
      "|AVpf3txeLJeJML43FN82|   Microsoft|Fingerprint Scann...|         tinybear417|             5|         tinybear417|         Mrs|     Piper|         tinybear417|\n",
      "|AVpf3txeLJeJML43FN82|   Microsoft|           Must have|      ticklishdog889|             5|      ticklishdog889|          Ms|    Tracey|      ticklishdog889|\n",
      "|AVpf3txeLJeJML43FN82|   Microsoft| not worth the price|     greenmeercat910|             4|     greenmeercat910|          Ms|     Loeki|     greenmeercat910|\n",
      "|AVpf3txeLJeJML43FN82|   Microsoft|      Great keyboard|       silverbird466|             4|       silverbird466|         Mrs|      Aada|       silverbird466|\n",
      "|AVpf3txeLJeJML43FN82|   Microsoft|Keyboard very smo...|        yellowdog897|             4|        yellowdog897|          Mr|    Eliott|        yellowdog897|\n",
      "|AVpf3txeLJeJML43FN82|   Microsoft|              Pricey|    beautifulduck172|             4|    beautifulduck172|          Mr|    Anania|    beautifulduck172|\n",
      "|AVpf3txeLJeJML43FN82|   Microsoft|              a must|beautifulelephant980|             5|beautifulelephant980|          Mr|    Steven|beautifulelephant980|\n",
      "|AVpf3txeLJeJML43FN82|   Microsoft|     Great Keyboard!|          redbear894|             5|          redbear894|        Miss|    Susana|          redbear894|\n",
      "|AVpf3txeLJeJML43FN82|   Microsoft|Best type cover k...|        bluegoose565|             5|        bluegoose565|          Mr|      Nooa|        bluegoose565|\n",
      "|AVpf3txeLJeJML43FN82|   Microsoft|      Solid keyboard|           sadcat930|             4|           sadcat930|         Mrs|     Tilde|           sadcat930|\n",
      "|AVpf3txeLJeJML43FN82|   Microsoft|This is a start t...|       smallkoala740|             5|       smallkoala740|          Ms|    Amelia|       smallkoala740|\n",
      "+--------------------+------------+--------------------+--------------------+--------------+--------------------+------------+----------+--------------------+\n",
      "only showing top 20 rows\n",
      "\n"
     ]
    }
   ],
   "source": [
    "opinions.show()"
   ]
  },
  {
   "cell_type": "code",
   "execution_count": null,
   "metadata": {},
   "outputs": [],
   "source": []
  }
 ],
 "metadata": {
  "kernelspec": {
   "display_name": "Python 3",
   "language": "python",
   "name": "python3"
  },
  "language_info": {
   "codemirror_mode": {
    "name": "ipython",
    "version": 3
   },
   "file_extension": ".py",
   "mimetype": "text/x-python",
   "name": "python",
   "nbconvert_exporter": "python",
   "pygments_lexer": "ipython3",
   "version": "3.7.3"
  }
 },
 "nbformat": 4,
 "nbformat_minor": 2
}
